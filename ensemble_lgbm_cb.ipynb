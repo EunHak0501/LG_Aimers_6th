{
 "cells": [
  {
   "cell_type": "code",
   "id": "initial_id",
   "metadata": {
    "ExecuteTime": {
     "end_time": "2025-02-26T23:29:24.778802Z",
     "start_time": "2025-02-26T23:29:23.960938Z"
    }
   },
   "source": [
    "import pandas as pd\n",
    "import numpy as np\n",
    "import warnings\n",
    "warnings.simplefilter(action='ignore', category=FutureWarning)\n",
    "\n",
    "from lightgbm import LGBMClassifier\n",
    "from sklearn.model_selection import StratifiedKFold\n",
    "from sklearn.metrics import roc_auc_score, accuracy_score, f1_score\n",
    "\n",
    "from catboost import CatBoostClassifier\n",
    "from sklearn.utils.class_weight import compute_class_weight\n",
    "\n",
    "train_path = './data/train.csv'\n",
    "test_path = './data/test.csv'\n",
    "sample_path = './data/sample_submission.csv'"
   ],
   "outputs": [],
   "execution_count": 1
  },
  {
   "cell_type": "markdown",
   "id": "08070c26-a0d1-41fc-8548-2ab9a390d551",
   "metadata": {},
   "source": [
    "## LGBM"
   ]
  },
  {
   "cell_type": "code",
   "id": "db22507b8824c256",
   "metadata": {
    "ExecuteTime": {
     "end_time": "2025-02-27T00:30:50.467400Z",
     "start_time": "2025-02-27T00:30:46.843427Z"
    }
   },
   "source": [
    "from lgbm_process import lgbm_process\n",
    "\n",
    "train = pd.read_csv(train_path).drop(columns=[\"ID\"])\n",
    "test = pd.read_csv(test_path).drop(columns=[\"ID\"])\n",
    "train, test = lgbm_process(train, test)\n",
    "print(train.shape, test.shape)"
   ],
   "outputs": [
    {
     "name": "stdout",
     "output_type": "stream",
     "text": [
      "(256351, 67) (90067, 66)\n"
     ]
    }
   ],
   "execution_count": 17
  },
  {
   "metadata": {},
   "cell_type": "code",
   "outputs": [],
   "execution_count": null,
   "source": [
    "seed_list = [333]\n",
    "folds = [10]"
   ],
   "id": "43ee38234b2677aa"
  },
  {
   "cell_type": "code",
   "id": "208e47ed6c1b07f6",
   "metadata": {
    "ExecuteTime": {
     "end_time": "2025-02-27T00:45:42.242389Z",
     "start_time": "2025-02-27T00:44:07.833652Z"
    }
   },
   "source": [
    "train = pd.read_csv(train_path).drop(columns=['ID'])\n",
    "test = pd.read_csv(test_path).drop(columns=['ID'])\n",
    "\n",
    "total_auc, total_acc, total_f1 = [], [], []\n",
    "test_preds_lgbm = []\n",
    "\n",
    "for seed in seed_list:\n",
    "    for k in folds:\n",
    "        skf = StratifiedKFold(n_splits=k, shuffle=True, random_state=seed)\n",
    "        auc_scores, acc_scores,  f1_scores = [], [], []\n",
    "\n",
    "        for fold, (train_idx, valid_idx) in enumerate(skf.split(train.drop(columns=['임신 성공 여부']), train[\"임신 성공 여부\"])):\n",
    "            fold_train = train.iloc[train_idx].copy().reset_index(drop=True)\n",
    "            fold_train2 = train.iloc[train_idx].copy().reset_index(drop=True)\n",
    "            fold_valid = train.iloc[valid_idx].copy().reset_index(drop=True)\n",
    "            fold_test = test.copy()\n",
    "\n",
    "            fold_train, fold_valid = lgbm_process(fold_train, fold_valid, seed=seed)\n",
    "            fold_train2, fold_test = lgbm_process(fold_train2, fold_test, seed=seed)\n",
    "\n",
    "            X_train = fold_train.drop(columns=['임신 성공 여부'])\n",
    "            X_valid = fold_valid.drop(columns=['임신 성공 여부'])\n",
    "            y_train = fold_train['임신 성공 여부']\n",
    "            y_valid = fold_valid['임신 성공 여부']\n",
    "\n",
    "            lgbm_params_42 = {\n",
    "                'n_estimators': 1134,\n",
    "                'learning_rate': 0.009183378614268902,\n",
    "                'max_depth': 15,\n",
    "                'num_leaves': 59,\n",
    "                'min_child_samples': 56,\n",
    "                'subsample': 0.5894604069264655,\n",
    "                'colsample_bytree': 0.6305670256882752,\n",
    "                'reg_alpha': 7.47936987466662,\n",
    "                'reg_lambda': 0.0010986427203281623,\n",
    "            }\n",
    "\n",
    "            model_lgb = LGBMClassifier(\n",
    "                **lgbm_params_42,\n",
    "                verbosity=-1,\n",
    "                n_jobs=-1,\n",
    "                random_state=seed,\n",
    "            )\n",
    "\n",
    "            model_lgb.fit(\n",
    "                X_train, y_train,\n",
    "            )\n",
    "\n",
    "            valid_preds_proba  = model_lgb.predict_proba(X_valid)[:, 1]\n",
    "            valid_preds_class = model_lgb.predict(X_valid)  # 클래스 예측값 (0 또는 1)\n",
    "\n",
    "            # AUC, Accuracy, F1-score 계산\n",
    "            auc_ = roc_auc_score(y_valid, valid_preds_proba)\n",
    "            acc_ = accuracy_score(y_valid, valid_preds_class)\n",
    "            f1_ = f1_score(y_valid, valid_preds_class)\n",
    "\n",
    "            print(f\"Seed[{seed:<3}] Fold {fold + 1} | AUC: {auc_:.7f} | Acc: {acc_:.7f} | F1: {f1_:.7f}\")\n",
    "\n",
    "            auc_scores.append(auc_)\n",
    "            acc_scores.append(acc_)\n",
    "            f1_scores.append(f1_)\n",
    "\n",
    "            total_auc.append(auc_)\n",
    "            total_acc.append(acc_)\n",
    "            total_f1.append(f1_)\n",
    "\n",
    "            test_pred = model_lgb.predict_proba(fold_test)[:, 1]\n",
    "            test_preds_lgbm.append(test_pred)\n",
    "\n",
    "        # fold 별 평균 성능 계산\n",
    "        avg_auc = np.mean(auc_scores)\n",
    "        avg_acc = np.mean(acc_scores)\n",
    "        avg_f1 = np.mean(f1_scores)\n",
    "\n",
    "        print(\"-\" * 80)\n",
    "        print(f\"Seed[{seed:<3}] Average Metrics | AUC: {avg_auc:.7f} | Acc: {avg_acc:.7f} | F1: {avg_f1:.7f}\")\n",
    "        print(\"-\" * 80)\n",
    "\n",
    "val_auc = np.mean(total_auc)\n",
    "val_acc = np.mean(total_acc)\n",
    "val_f1 = np.mean(total_f1)\n",
    "\n",
    "print(\"-\" * 80)\n",
    "print(f\"Validation Average Metrics | AUC: {val_auc:.7f} | Acc: {val_acc:.7f} | F1: {val_f1:.7f}\")"
   ],
   "outputs": [
    {
     "name": "stdout",
     "output_type": "stream",
     "text": [
      "Seed[4  ] Fold 1 | AUC: 0.7374502 | Acc: 0.7468404 | F1: 0.1999507\n",
      "Seed[4  ] Fold 2 | AUC: 0.7447556 | Acc: 0.7456212 | F1: 0.1956334\n",
      "Seed[4  ] Fold 3 | AUC: 0.7414125 | Acc: 0.7440999 | F1: 0.1907229\n",
      "Seed[4  ] Fold 4 | AUC: 0.7450743 | Acc: 0.7469475 | F1: 0.1952611\n",
      "Seed[4  ] Fold 5 | AUC: 0.7402540 | Acc: 0.7456212 | F1: 0.1861974\n",
      "Seed[4  ] Fold 6 | AUC: 0.7354118 | Acc: 0.7454262 | F1: 0.1913259\n",
      "Seed[4  ] Fold 7 | AUC: 0.7357952 | Acc: 0.7474547 | F1: 0.2052541\n",
      "Seed[4  ] Fold 8 | AUC: 0.7327653 | Acc: 0.7462064 | F1: 0.2011297\n",
      "Seed[4  ] Fold 9 | AUC: 0.7440123 | Acc: 0.7464794 | F1: 0.1981493\n",
      "Seed[4  ] Fold 10 | AUC: 0.7445284 | Acc: 0.7482348 | F1: 0.2073201\n",
      "--------------------------------------------------------------------------------\n",
      "Seed[4  ] Average Metrics | AUC: 0.7401460 | Acc: 0.7462932 | F1: 0.1970945\n",
      "--------------------------------------------------------------------------------\n",
      "--------------------------------------------------------------------------------\n",
      "Validation Average Metrics | AUC: 0.7401460 | Acc: 0.7462932 | F1: 0.1970945\n"
     ]
    }
   ],
   "execution_count": 28
  },
  {
   "cell_type": "code",
   "id": "7b3767f564ebeb3d",
   "metadata": {
    "scrolled": true,
    "ExecuteTime": {
     "end_time": "2025-02-27T00:43:05.158057Z",
     "start_time": "2025-02-27T00:43:05.138165Z"
    }
   },
   "source": [
    "tmp_submission = pd.DataFrame({f'lgbm_{seed_list[0]}': np.mean(test_preds_lgbm, axis=0)})\n",
    "tmp_submission"
   ],
   "outputs": [
    {
     "data": {
      "text/plain": [
       "         lgbm_3\n",
       "0      0.001666\n",
       "1      0.002246\n",
       "2      0.155921\n",
       "3      0.097274\n",
       "4      0.529565\n",
       "...         ...\n",
       "90062  0.001592\n",
       "90063  0.294332\n",
       "90064  0.470224\n",
       "90065  0.182592\n",
       "90066  0.001706\n",
       "\n",
       "[90067 rows x 1 columns]"
      ],
      "text/html": [
       "<div>\n",
       "<style scoped>\n",
       "    .dataframe tbody tr th:only-of-type {\n",
       "        vertical-align: middle;\n",
       "    }\n",
       "\n",
       "    .dataframe tbody tr th {\n",
       "        vertical-align: top;\n",
       "    }\n",
       "\n",
       "    .dataframe thead th {\n",
       "        text-align: right;\n",
       "    }\n",
       "</style>\n",
       "<table border=\"1\" class=\"dataframe\">\n",
       "  <thead>\n",
       "    <tr style=\"text-align: right;\">\n",
       "      <th></th>\n",
       "      <th>lgbm_3</th>\n",
       "    </tr>\n",
       "  </thead>\n",
       "  <tbody>\n",
       "    <tr>\n",
       "      <th>0</th>\n",
       "      <td>0.001666</td>\n",
       "    </tr>\n",
       "    <tr>\n",
       "      <th>1</th>\n",
       "      <td>0.002246</td>\n",
       "    </tr>\n",
       "    <tr>\n",
       "      <th>2</th>\n",
       "      <td>0.155921</td>\n",
       "    </tr>\n",
       "    <tr>\n",
       "      <th>3</th>\n",
       "      <td>0.097274</td>\n",
       "    </tr>\n",
       "    <tr>\n",
       "      <th>4</th>\n",
       "      <td>0.529565</td>\n",
       "    </tr>\n",
       "    <tr>\n",
       "      <th>...</th>\n",
       "      <td>...</td>\n",
       "    </tr>\n",
       "    <tr>\n",
       "      <th>90062</th>\n",
       "      <td>0.001592</td>\n",
       "    </tr>\n",
       "    <tr>\n",
       "      <th>90063</th>\n",
       "      <td>0.294332</td>\n",
       "    </tr>\n",
       "    <tr>\n",
       "      <th>90064</th>\n",
       "      <td>0.470224</td>\n",
       "    </tr>\n",
       "    <tr>\n",
       "      <th>90065</th>\n",
       "      <td>0.182592</td>\n",
       "    </tr>\n",
       "    <tr>\n",
       "      <th>90066</th>\n",
       "      <td>0.001706</td>\n",
       "    </tr>\n",
       "  </tbody>\n",
       "</table>\n",
       "<p>90067 rows × 1 columns</p>\n",
       "</div>"
      ]
     },
     "execution_count": 25,
     "metadata": {},
     "output_type": "execute_result"
    }
   ],
   "execution_count": 25
  },
  {
   "cell_type": "markdown",
   "id": "1498ca96-4497-423c-ab6a-98abf8efe823",
   "metadata": {},
   "source": [
    "## Catboost"
   ]
  },
  {
   "cell_type": "code",
   "id": "44921927-d917-447e-8b98-eaf84ec7b61c",
   "metadata": {
    "ExecuteTime": {
     "end_time": "2025-02-27T00:43:10.255501Z",
     "start_time": "2025-02-27T00:43:07.187611Z"
    }
   },
   "source": [
    "from CB_Process import cb_all_process\n",
    "train = pd.read_csv(train_path).drop(columns=[\"ID\"])\n",
    "test = pd.read_csv(test_path).drop(columns=[\"ID\"])\n",
    "\n",
    "train, test = cb_all_process(train, test)\n",
    "\n",
    "print(train.shape, test.shape)"
   ],
   "outputs": [
    {
     "name": "stdout",
     "output_type": "stream",
     "text": [
      "(256351, 65) (90067, 64)\n"
     ]
    }
   ],
   "execution_count": 26
  },
  {
   "cell_type": "code",
   "id": "ee97f406-6188-4525-802c-9e6829632f7a",
   "metadata": {
    "scrolled": true,
    "ExecuteTime": {
     "end_time": "2025-02-27T00:44:01.973798Z",
     "start_time": "2025-02-27T00:43:10.396966Z"
    }
   },
   "source": [
    "train = pd.read_csv(train_path).drop(columns=['ID'])\n",
    "test = pd.read_csv(test_path).drop(columns=['ID'])\n",
    "\n",
    "total_auc, total_acc, total_f1 = [], [], []\n",
    "test_preds_cat = []\n",
    "\n",
    "is_first = True\n",
    "for seed in seed_list:\n",
    "    for k in folds:\n",
    "        skf = StratifiedKFold(n_splits=k, shuffle=True, random_state=seed)\n",
    "        auc_scores, acc_scores,  f1_scores = [], [], []\n",
    "\n",
    "        for fold, (train_idx, valid_idx) in enumerate(skf.split(train.drop(columns=['임신 성공 여부']), train[\"임신 성공 여부\"])):\n",
    "            fold_train = train.iloc[train_idx].copy().reset_index(drop=True)\n",
    "            fold_train2 = train.iloc[train_idx].copy().reset_index(drop=True)\n",
    "            fold_valid = train.iloc[valid_idx].copy().reset_index(drop=True)\n",
    "            fold_test = test.copy()\n",
    "\n",
    "            fold_train, fold_valid = cb_all_process(fold_train, fold_valid)\n",
    "            fold_train2, fold_test = cb_all_process(fold_train2, fold_test)\n",
    "\n",
    "            X_train = fold_train.drop(columns=['임신 성공 여부'])\n",
    "            X_valid = fold_valid.drop(columns=['임신 성공 여부'])\n",
    "            y_train = fold_train['임신 성공 여부']\n",
    "            y_valid = fold_valid['임신 성공 여부']\n",
    "\n",
    "            cat_features = X_train.select_dtypes(include=[\"object\", \"category\"]).columns.tolist()\n",
    "\n",
    "            if is_first:\n",
    "                cat_features = X_train.select_dtypes(include=[\"object\", \"category\"]).columns.tolist()\n",
    "                print(f'범주형 변수: {len(cat_features)}개 \\n {cat_features} \\n')\n",
    "\n",
    "                num_features = [col for col in X_train.columns if col not in cat_features + ['임신 성공 여부']]\n",
    "                print(f'수치형 변수: {len(num_features)}개 \\n {num_features} \\n')\n",
    "                is_first = False\n",
    "\n",
    "            weights_sqrt = np.sqrt(compute_class_weight(class_weight='balanced', classes=np.unique(y_train), y=y_train))\n",
    "\n",
    "            # Catboost 모델 초기화\n",
    "            model_cat = CatBoostClassifier(iterations=2000, learning_rate=0.05, random_seed=seed,\n",
    "                                       loss_function='Logloss', eval_metric='Logloss', class_weights=weights_sqrt,\n",
    "                                       cat_features=cat_features, thread_count=-1)\n",
    "\n",
    "            model_cat.fit(X_train, y_train, eval_set=(X_valid, y_valid), early_stopping_rounds=100, verbose=1000)\n",
    "\n",
    "            valid_preds_proba = model_cat.predict_proba(X_valid)[:, 1]\n",
    "            valid_preds_class = model_cat.predict(X_valid)  # 클래스 예측값 (0 또는 1)\n",
    "\n",
    "            # AUC, Accuracy, F1-score 계산\n",
    "            auc_ = roc_auc_score(y_valid, valid_preds_proba)\n",
    "            acc_ = accuracy_score(y_valid, valid_preds_class)\n",
    "            f1_ = f1_score(y_valid, valid_preds_class)\n",
    "\n",
    "            print(f\"Seed[{seed:<3}] Fold {fold + 1} | AUC: {auc_:.7f} | Acc: {acc_:.7f} | F1: {f1_:.7f}\")\n",
    "\n",
    "            auc_scores.append(auc_)\n",
    "            acc_scores.append(acc_)\n",
    "            f1_scores.append(f1_)\n",
    "\n",
    "            total_auc.append(auc_)\n",
    "            total_acc.append(acc_)\n",
    "            total_f1.append(f1_)\n",
    "\n",
    "            test_pred = model_cat.predict_proba(fold_test)[:, 1]\n",
    "            test_preds_cat.append(test_pred)\n",
    "\n",
    "        # fold 별 평균 성능 계산\n",
    "        avg_auc = np.mean(auc_scores)\n",
    "        avg_acc = np.mean(acc_scores)\n",
    "        avg_f1 = np.mean(f1_scores)\n",
    "\n",
    "        print(\"-\" * 80)\n",
    "        print(f\"Seed[{seed:<3}] Average Metrics | AUC: {avg_auc:.7f} | Acc: {avg_acc:.7f} | F1: {avg_f1:.7f}\")\n",
    "        print(\"-\" * 80)\n",
    "\n",
    "val_auc = np.mean(total_auc)\n",
    "val_acc = np.mean(total_acc)\n",
    "val_f1 = np.mean(total_f1)\n",
    "\n",
    "print(\"-\" * 80)\n",
    "print(f\"Validation Average Metrics | AUC: {val_auc:.7f} | Acc: {val_acc:.7f} | F1: {val_f1:.7f}\")"
   ],
   "outputs": [
    {
     "name": "stdout",
     "output_type": "stream",
     "text": [
      "범주형 변수: 18개 \n",
      " ['시술 시기 코드', '시술 당시 나이', '배란 유도 유형', '배아 생성 주요 이유', '클리닉 내 총 시술 횟수', 'IVF 시술 횟수', 'DI 시술 횟수', '총 임신 횟수', 'IVF 임신 횟수', 'DI 임신 횟수', '총 출산 횟수', 'IVF 출산 횟수', 'DI 출산 횟수', '난자 출처', '정자 출처', '난자 기증자 나이', '정자 기증자 나이', '시술유형_통합'] \n",
      "\n",
      "수치형 변수: 46개 \n",
      " ['임신 시도 또는 마지막 임신 경과 연수', '배란 자극 여부', '단일 배아 이식 여부', '착상 전 유전 검사 사용 여부', '착상 전 유전 진단 사용 여부', '남성 주 불임 원인', '남성 부 불임 원인', '여성 주 불임 원인', '여성 부 불임 원인', '부부 주 불임 원인', '부부 부 불임 원인', '불명확 불임 원인', '불임 원인 - 난관 질환', '불임 원인 - 남성 요인', '불임 원인 - 배란 장애', '불임 원인 - 자궁경부 문제', '불임 원인 - 자궁내막증', '불임 원인 - 정자 농도', '불임 원인 - 정자 운동성', '불임 원인 - 정자 형태', '총 생성 배아 수', '미세주입된 난자 수', '미세주입에서 생성된 배아 수', '이식된 배아 수', '미세주입 배아 이식 수', '저장된 배아 수', '미세주입 후 저장된 배아 수', '해동된 배아 수', '해동 난자 수', '수집된 신선 난자 수', '저장된 신선 난자 수', '혼합된 난자 수', '파트너 정자와 혼합된 난자 수', '기증자 정자와 혼합된 난자 수', '동결 배아 사용 여부', '신선 배아 사용 여부', '기증 배아 사용 여부', '대리모 여부', 'PGD 시술 여부', 'PGS 시술 여부', '난자 채취 경과일', '난자 해동 경과일', '난자 혼합 경과일', '배아 이식 경과일', '배아 해동 경과일', '시술_임신'] \n",
      "\n",
      "0:\tlearn: 0.6737465\ttest: 0.6738002\tbest: 0.6738002 (0)\ttotal: 159ms\tremaining: 5m 17s\n"
     ]
    },
    {
     "ename": "KeyboardInterrupt",
     "evalue": "",
     "output_type": "error",
     "traceback": [
      "\u001B[1;31m---------------------------------------------------------------------------\u001B[0m",
      "\u001B[1;31mKeyboardInterrupt\u001B[0m                         Traceback (most recent call last)",
      "Cell \u001B[1;32mIn[27], line 47\u001B[0m\n\u001B[0;32m     42\u001B[0m \u001B[38;5;66;03m# Catboost 모델 초기화\u001B[39;00m\n\u001B[0;32m     43\u001B[0m model_cat \u001B[38;5;241m=\u001B[39m CatBoostClassifier(iterations\u001B[38;5;241m=\u001B[39m\u001B[38;5;241m2000\u001B[39m, learning_rate\u001B[38;5;241m=\u001B[39m\u001B[38;5;241m0.05\u001B[39m, random_seed\u001B[38;5;241m=\u001B[39mseed,\n\u001B[0;32m     44\u001B[0m                            loss_function\u001B[38;5;241m=\u001B[39m\u001B[38;5;124m'\u001B[39m\u001B[38;5;124mLogloss\u001B[39m\u001B[38;5;124m'\u001B[39m, eval_metric\u001B[38;5;241m=\u001B[39m\u001B[38;5;124m'\u001B[39m\u001B[38;5;124mLogloss\u001B[39m\u001B[38;5;124m'\u001B[39m, class_weights\u001B[38;5;241m=\u001B[39mweights_sqrt,\n\u001B[0;32m     45\u001B[0m                            cat_features\u001B[38;5;241m=\u001B[39mcat_features, thread_count\u001B[38;5;241m=\u001B[39m\u001B[38;5;241m-\u001B[39m\u001B[38;5;241m1\u001B[39m)\n\u001B[1;32m---> 47\u001B[0m \u001B[43mmodel_cat\u001B[49m\u001B[38;5;241;43m.\u001B[39;49m\u001B[43mfit\u001B[49m\u001B[43m(\u001B[49m\u001B[43mX_train\u001B[49m\u001B[43m,\u001B[49m\u001B[43m \u001B[49m\u001B[43my_train\u001B[49m\u001B[43m,\u001B[49m\u001B[43m \u001B[49m\u001B[43meval_set\u001B[49m\u001B[38;5;241;43m=\u001B[39;49m\u001B[43m(\u001B[49m\u001B[43mX_valid\u001B[49m\u001B[43m,\u001B[49m\u001B[43m \u001B[49m\u001B[43my_valid\u001B[49m\u001B[43m)\u001B[49m\u001B[43m,\u001B[49m\u001B[43m \u001B[49m\u001B[43mearly_stopping_rounds\u001B[49m\u001B[38;5;241;43m=\u001B[39;49m\u001B[38;5;241;43m100\u001B[39;49m\u001B[43m,\u001B[49m\u001B[43m \u001B[49m\u001B[43mverbose\u001B[49m\u001B[38;5;241;43m=\u001B[39;49m\u001B[38;5;241;43m1000\u001B[39;49m\u001B[43m)\u001B[49m\n\u001B[0;32m     49\u001B[0m valid_preds_proba \u001B[38;5;241m=\u001B[39m model_cat\u001B[38;5;241m.\u001B[39mpredict_proba(X_valid)[:, \u001B[38;5;241m1\u001B[39m]\n\u001B[0;32m     50\u001B[0m valid_preds_class \u001B[38;5;241m=\u001B[39m model_cat\u001B[38;5;241m.\u001B[39mpredict(X_valid)  \u001B[38;5;66;03m# 클래스 예측값 (0 또는 1)\u001B[39;00m\n",
      "File \u001B[1;32m~\\anaconda3\\envs\\KBoat_1\\lib\\site-packages\\catboost\\core.py:5201\u001B[0m, in \u001B[0;36mCatBoostClassifier.fit\u001B[1;34m(self, X, y, cat_features, text_features, embedding_features, sample_weight, baseline, use_best_model, eval_set, verbose, logging_level, plot, plot_file, column_description, verbose_eval, metric_period, silent, early_stopping_rounds, save_snapshot, snapshot_file, snapshot_interval, init_model, callbacks, log_cout, log_cerr)\u001B[0m\n\u001B[0;32m   5198\u001B[0m \u001B[38;5;28;01mif\u001B[39;00m \u001B[38;5;124m'\u001B[39m\u001B[38;5;124mloss_function\u001B[39m\u001B[38;5;124m'\u001B[39m \u001B[38;5;129;01min\u001B[39;00m params:\n\u001B[0;32m   5199\u001B[0m     CatBoostClassifier\u001B[38;5;241m.\u001B[39m_check_is_compatible_loss(params[\u001B[38;5;124m'\u001B[39m\u001B[38;5;124mloss_function\u001B[39m\u001B[38;5;124m'\u001B[39m])\n\u001B[1;32m-> 5201\u001B[0m \u001B[38;5;28;43mself\u001B[39;49m\u001B[38;5;241;43m.\u001B[39;49m\u001B[43m_fit\u001B[49m\u001B[43m(\u001B[49m\u001B[43mX\u001B[49m\u001B[43m,\u001B[49m\u001B[43m \u001B[49m\u001B[43my\u001B[49m\u001B[43m,\u001B[49m\u001B[43m \u001B[49m\u001B[43mcat_features\u001B[49m\u001B[43m,\u001B[49m\u001B[43m \u001B[49m\u001B[43mtext_features\u001B[49m\u001B[43m,\u001B[49m\u001B[43m \u001B[49m\u001B[43membedding_features\u001B[49m\u001B[43m,\u001B[49m\u001B[43m \u001B[49m\u001B[38;5;28;43;01mNone\u001B[39;49;00m\u001B[43m,\u001B[49m\u001B[43m \u001B[49m\u001B[43msample_weight\u001B[49m\u001B[43m,\u001B[49m\u001B[43m \u001B[49m\u001B[38;5;28;43;01mNone\u001B[39;49;00m\u001B[43m,\u001B[49m\u001B[43m \u001B[49m\u001B[38;5;28;43;01mNone\u001B[39;49;00m\u001B[43m,\u001B[49m\u001B[43m \u001B[49m\u001B[38;5;28;43;01mNone\u001B[39;49;00m\u001B[43m,\u001B[49m\u001B[43m \u001B[49m\u001B[38;5;28;43;01mNone\u001B[39;49;00m\u001B[43m,\u001B[49m\u001B[43m \u001B[49m\u001B[43mbaseline\u001B[49m\u001B[43m,\u001B[49m\u001B[43m \u001B[49m\u001B[43muse_best_model\u001B[49m\u001B[43m,\u001B[49m\n\u001B[0;32m   5202\u001B[0m \u001B[43m          \u001B[49m\u001B[43meval_set\u001B[49m\u001B[43m,\u001B[49m\u001B[43m \u001B[49m\u001B[43mverbose\u001B[49m\u001B[43m,\u001B[49m\u001B[43m \u001B[49m\u001B[43mlogging_level\u001B[49m\u001B[43m,\u001B[49m\u001B[43m \u001B[49m\u001B[43mplot\u001B[49m\u001B[43m,\u001B[49m\u001B[43m \u001B[49m\u001B[43mplot_file\u001B[49m\u001B[43m,\u001B[49m\u001B[43m \u001B[49m\u001B[43mcolumn_description\u001B[49m\u001B[43m,\u001B[49m\u001B[43m \u001B[49m\u001B[43mverbose_eval\u001B[49m\u001B[43m,\u001B[49m\u001B[43m \u001B[49m\u001B[43mmetric_period\u001B[49m\u001B[43m,\u001B[49m\n\u001B[0;32m   5203\u001B[0m \u001B[43m          \u001B[49m\u001B[43msilent\u001B[49m\u001B[43m,\u001B[49m\u001B[43m \u001B[49m\u001B[43mearly_stopping_rounds\u001B[49m\u001B[43m,\u001B[49m\u001B[43m \u001B[49m\u001B[43msave_snapshot\u001B[49m\u001B[43m,\u001B[49m\u001B[43m \u001B[49m\u001B[43msnapshot_file\u001B[49m\u001B[43m,\u001B[49m\u001B[43m \u001B[49m\u001B[43msnapshot_interval\u001B[49m\u001B[43m,\u001B[49m\u001B[43m \u001B[49m\u001B[43minit_model\u001B[49m\u001B[43m,\u001B[49m\u001B[43m \u001B[49m\u001B[43mcallbacks\u001B[49m\u001B[43m,\u001B[49m\u001B[43m \u001B[49m\u001B[43mlog_cout\u001B[49m\u001B[43m,\u001B[49m\u001B[43m \u001B[49m\u001B[43mlog_cerr\u001B[49m\u001B[43m)\u001B[49m\n\u001B[0;32m   5204\u001B[0m \u001B[38;5;28;01mreturn\u001B[39;00m \u001B[38;5;28mself\u001B[39m\n",
      "File \u001B[1;32m~\\anaconda3\\envs\\KBoat_1\\lib\\site-packages\\catboost\\core.py:2396\u001B[0m, in \u001B[0;36mCatBoost._fit\u001B[1;34m(self, X, y, cat_features, text_features, embedding_features, pairs, sample_weight, group_id, group_weight, subgroup_id, pairs_weight, baseline, use_best_model, eval_set, verbose, logging_level, plot, plot_file, column_description, verbose_eval, metric_period, silent, early_stopping_rounds, save_snapshot, snapshot_file, snapshot_interval, init_model, callbacks, log_cout, log_cerr)\u001B[0m\n\u001B[0;32m   2393\u001B[0m allow_clear_pool \u001B[38;5;241m=\u001B[39m train_params[\u001B[38;5;124m\"\u001B[39m\u001B[38;5;124mallow_clear_pool\u001B[39m\u001B[38;5;124m\"\u001B[39m]\n\u001B[0;32m   2395\u001B[0m \u001B[38;5;28;01mwith\u001B[39;00m plot_wrapper(plot, plot_file, \u001B[38;5;124m'\u001B[39m\u001B[38;5;124mTraining plots\u001B[39m\u001B[38;5;124m'\u001B[39m, [_get_train_dir(\u001B[38;5;28mself\u001B[39m\u001B[38;5;241m.\u001B[39mget_params())]):\n\u001B[1;32m-> 2396\u001B[0m     \u001B[38;5;28;43mself\u001B[39;49m\u001B[38;5;241;43m.\u001B[39;49m\u001B[43m_train\u001B[49m\u001B[43m(\u001B[49m\n\u001B[0;32m   2397\u001B[0m \u001B[43m        \u001B[49m\u001B[43mtrain_pool\u001B[49m\u001B[43m,\u001B[49m\n\u001B[0;32m   2398\u001B[0m \u001B[43m        \u001B[49m\u001B[43mtrain_params\u001B[49m\u001B[43m[\u001B[49m\u001B[38;5;124;43m\"\u001B[39;49m\u001B[38;5;124;43meval_sets\u001B[39;49m\u001B[38;5;124;43m\"\u001B[39;49m\u001B[43m]\u001B[49m\u001B[43m,\u001B[49m\n\u001B[0;32m   2399\u001B[0m \u001B[43m        \u001B[49m\u001B[43mparams\u001B[49m\u001B[43m,\u001B[49m\n\u001B[0;32m   2400\u001B[0m \u001B[43m        \u001B[49m\u001B[43mallow_clear_pool\u001B[49m\u001B[43m,\u001B[49m\n\u001B[0;32m   2401\u001B[0m \u001B[43m        \u001B[49m\u001B[43mtrain_params\u001B[49m\u001B[43m[\u001B[49m\u001B[38;5;124;43m\"\u001B[39;49m\u001B[38;5;124;43minit_model\u001B[39;49m\u001B[38;5;124;43m\"\u001B[39;49m\u001B[43m]\u001B[49m\n\u001B[0;32m   2402\u001B[0m \u001B[43m    \u001B[49m\u001B[43m)\u001B[49m\n\u001B[0;32m   2404\u001B[0m \u001B[38;5;66;03m# Have property feature_importance possibly set\u001B[39;00m\n\u001B[0;32m   2405\u001B[0m loss \u001B[38;5;241m=\u001B[39m \u001B[38;5;28mself\u001B[39m\u001B[38;5;241m.\u001B[39m_object\u001B[38;5;241m.\u001B[39m_get_loss_function_name()\n",
      "File \u001B[1;32m~\\anaconda3\\envs\\KBoat_1\\lib\\site-packages\\catboost\\core.py:1776\u001B[0m, in \u001B[0;36m_CatBoostBase._train\u001B[1;34m(self, train_pool, test_pool, params, allow_clear_pool, init_model)\u001B[0m\n\u001B[0;32m   1775\u001B[0m \u001B[38;5;28;01mdef\u001B[39;00m \u001B[38;5;21m_train\u001B[39m(\u001B[38;5;28mself\u001B[39m, train_pool, test_pool, params, allow_clear_pool, init_model):\n\u001B[1;32m-> 1776\u001B[0m     \u001B[38;5;28;43mself\u001B[39;49m\u001B[38;5;241;43m.\u001B[39;49m\u001B[43m_object\u001B[49m\u001B[38;5;241;43m.\u001B[39;49m\u001B[43m_train\u001B[49m\u001B[43m(\u001B[49m\u001B[43mtrain_pool\u001B[49m\u001B[43m,\u001B[49m\u001B[43m \u001B[49m\u001B[43mtest_pool\u001B[49m\u001B[43m,\u001B[49m\u001B[43m \u001B[49m\u001B[43mparams\u001B[49m\u001B[43m,\u001B[49m\u001B[43m \u001B[49m\u001B[43mallow_clear_pool\u001B[49m\u001B[43m,\u001B[49m\u001B[43m \u001B[49m\u001B[43minit_model\u001B[49m\u001B[38;5;241;43m.\u001B[39;49m\u001B[43m_object\u001B[49m\u001B[43m \u001B[49m\u001B[38;5;28;43;01mif\u001B[39;49;00m\u001B[43m \u001B[49m\u001B[43minit_model\u001B[49m\u001B[43m \u001B[49m\u001B[38;5;28;43;01melse\u001B[39;49;00m\u001B[43m \u001B[49m\u001B[38;5;28;43;01mNone\u001B[39;49;00m\u001B[43m)\u001B[49m\n\u001B[0;32m   1777\u001B[0m     \u001B[38;5;28mself\u001B[39m\u001B[38;5;241m.\u001B[39m_set_trained_model_attributes()\n",
      "File \u001B[1;32m_catboost.pyx:4833\u001B[0m, in \u001B[0;36m_catboost._CatBoost._train\u001B[1;34m()\u001B[0m\n",
      "File \u001B[1;32m_catboost.pyx:4882\u001B[0m, in \u001B[0;36m_catboost._CatBoost._train\u001B[1;34m()\u001B[0m\n",
      "\u001B[1;31mKeyboardInterrupt\u001B[0m: "
     ]
    }
   ],
   "execution_count": 27
  },
  {
   "cell_type": "code",
   "id": "cf411719-3c56-4885-9767-74507ef73cca",
   "metadata": {
    "ExecuteTime": {
     "end_time": "2025-03-04T09:30:42.279141Z",
     "start_time": "2025-03-04T09:30:41.950240Z"
    }
   },
   "source": "tmp_submission[f'cat_{seed_list[0]}'] = np.mean(test_preds_cat, axis=0)",
   "outputs": [
    {
     "ename": "NameError",
     "evalue": "name 'np' is not defined",
     "output_type": "error",
     "traceback": [
      "\u001B[1;31m---------------------------------------------------------------------------\u001B[0m",
      "\u001B[1;31mNameError\u001B[0m                                 Traceback (most recent call last)",
      "Cell \u001B[1;32mIn[1], line 1\u001B[0m\n\u001B[1;32m----> 1\u001B[0m tmp_submission[\u001B[38;5;124mf\u001B[39m\u001B[38;5;124m'\u001B[39m\u001B[38;5;124mcat_\u001B[39m\u001B[38;5;132;01m{\u001B[39;00mseed_list[\u001B[38;5;241m0\u001B[39m]\u001B[38;5;132;01m}\u001B[39;00m\u001B[38;5;124m'\u001B[39m] \u001B[38;5;241m=\u001B[39m \u001B[43mnp\u001B[49m\u001B[38;5;241m.\u001B[39mmean(test_preds_cat, axis\u001B[38;5;241m=\u001B[39m\u001B[38;5;241m0\u001B[39m)\n",
      "\u001B[1;31mNameError\u001B[0m: name 'np' is not defined"
     ]
    }
   ],
   "execution_count": 1
  },
  {
   "cell_type": "markdown",
   "id": "365895a4-34cb-4613-a34c-50b035e582ad",
   "metadata": {},
   "source": [
    "## Ensemble"
   ]
  },
  {
   "cell_type": "code",
   "id": "7107d8d9-e50e-4140-8aa6-8929647c3d40",
   "metadata": {
    "ExecuteTime": {
     "end_time": "2025-02-27T00:27:36.342205Z",
     "start_time": "2025-02-27T00:27:36.322214Z"
    }
   },
   "source": [
    "tmp_submission"
   ],
   "outputs": [
    {
     "data": {
      "text/plain": [
       "       lgbm_666   cat_666\n",
       "0      0.001867  0.002123\n",
       "1      0.002010  0.014248\n",
       "2      0.158129  0.231421\n",
       "3      0.096000  0.166438\n",
       "4      0.520879  0.630755\n",
       "...         ...       ...\n",
       "90062  0.001539  0.002472\n",
       "90063  0.293352  0.454370\n",
       "90064  0.467433  0.548639\n",
       "90065  0.174970  0.323370\n",
       "90066  0.001940  0.002580\n",
       "\n",
       "[90067 rows x 2 columns]"
      ],
      "text/html": [
       "<div>\n",
       "<style scoped>\n",
       "    .dataframe tbody tr th:only-of-type {\n",
       "        vertical-align: middle;\n",
       "    }\n",
       "\n",
       "    .dataframe tbody tr th {\n",
       "        vertical-align: top;\n",
       "    }\n",
       "\n",
       "    .dataframe thead th {\n",
       "        text-align: right;\n",
       "    }\n",
       "</style>\n",
       "<table border=\"1\" class=\"dataframe\">\n",
       "  <thead>\n",
       "    <tr style=\"text-align: right;\">\n",
       "      <th></th>\n",
       "      <th>lgbm_666</th>\n",
       "      <th>cat_666</th>\n",
       "    </tr>\n",
       "  </thead>\n",
       "  <tbody>\n",
       "    <tr>\n",
       "      <th>0</th>\n",
       "      <td>0.001867</td>\n",
       "      <td>0.002123</td>\n",
       "    </tr>\n",
       "    <tr>\n",
       "      <th>1</th>\n",
       "      <td>0.002010</td>\n",
       "      <td>0.014248</td>\n",
       "    </tr>\n",
       "    <tr>\n",
       "      <th>2</th>\n",
       "      <td>0.158129</td>\n",
       "      <td>0.231421</td>\n",
       "    </tr>\n",
       "    <tr>\n",
       "      <th>3</th>\n",
       "      <td>0.096000</td>\n",
       "      <td>0.166438</td>\n",
       "    </tr>\n",
       "    <tr>\n",
       "      <th>4</th>\n",
       "      <td>0.520879</td>\n",
       "      <td>0.630755</td>\n",
       "    </tr>\n",
       "    <tr>\n",
       "      <th>...</th>\n",
       "      <td>...</td>\n",
       "      <td>...</td>\n",
       "    </tr>\n",
       "    <tr>\n",
       "      <th>90062</th>\n",
       "      <td>0.001539</td>\n",
       "      <td>0.002472</td>\n",
       "    </tr>\n",
       "    <tr>\n",
       "      <th>90063</th>\n",
       "      <td>0.293352</td>\n",
       "      <td>0.454370</td>\n",
       "    </tr>\n",
       "    <tr>\n",
       "      <th>90064</th>\n",
       "      <td>0.467433</td>\n",
       "      <td>0.548639</td>\n",
       "    </tr>\n",
       "    <tr>\n",
       "      <th>90065</th>\n",
       "      <td>0.174970</td>\n",
       "      <td>0.323370</td>\n",
       "    </tr>\n",
       "    <tr>\n",
       "      <th>90066</th>\n",
       "      <td>0.001940</td>\n",
       "      <td>0.002580</td>\n",
       "    </tr>\n",
       "  </tbody>\n",
       "</table>\n",
       "<p>90067 rows × 2 columns</p>\n",
       "</div>"
      ]
     },
     "execution_count": 10,
     "metadata": {},
     "output_type": "execute_result"
    }
   ],
   "execution_count": 10
  },
  {
   "cell_type": "code",
   "id": "bec0b94e-4a31-4d38-b3d7-27f435d6e43d",
   "metadata": {
    "ExecuteTime": {
     "end_time": "2025-02-27T00:27:39.388616Z",
     "start_time": "2025-02-27T00:27:39.367616Z"
    }
   },
   "source": [
    "tmp_submission['row_avg'] = tmp_submission.mean(axis=1)"
   ],
   "outputs": [],
   "execution_count": 11
  },
  {
   "cell_type": "code",
   "id": "09b16c2d-6891-4dcd-9849-de7688853752",
   "metadata": {
    "scrolled": true,
    "ExecuteTime": {
     "end_time": "2025-02-27T00:27:40.181139Z",
     "start_time": "2025-02-27T00:27:40.167626Z"
    }
   },
   "source": "tmp_submission",
   "outputs": [
    {
     "data": {
      "text/plain": [
       "       lgbm_666   cat_666   row_avg\n",
       "0      0.001867  0.002123  0.001995\n",
       "1      0.002010  0.014248  0.008129\n",
       "2      0.158129  0.231421  0.194775\n",
       "3      0.096000  0.166438  0.131219\n",
       "4      0.520879  0.630755  0.575817\n",
       "...         ...       ...       ...\n",
       "90062  0.001539  0.002472  0.002005\n",
       "90063  0.293352  0.454370  0.373861\n",
       "90064  0.467433  0.548639  0.508036\n",
       "90065  0.174970  0.323370  0.249170\n",
       "90066  0.001940  0.002580  0.002260\n",
       "\n",
       "[90067 rows x 3 columns]"
      ],
      "text/html": [
       "<div>\n",
       "<style scoped>\n",
       "    .dataframe tbody tr th:only-of-type {\n",
       "        vertical-align: middle;\n",
       "    }\n",
       "\n",
       "    .dataframe tbody tr th {\n",
       "        vertical-align: top;\n",
       "    }\n",
       "\n",
       "    .dataframe thead th {\n",
       "        text-align: right;\n",
       "    }\n",
       "</style>\n",
       "<table border=\"1\" class=\"dataframe\">\n",
       "  <thead>\n",
       "    <tr style=\"text-align: right;\">\n",
       "      <th></th>\n",
       "      <th>lgbm_666</th>\n",
       "      <th>cat_666</th>\n",
       "      <th>row_avg</th>\n",
       "    </tr>\n",
       "  </thead>\n",
       "  <tbody>\n",
       "    <tr>\n",
       "      <th>0</th>\n",
       "      <td>0.001867</td>\n",
       "      <td>0.002123</td>\n",
       "      <td>0.001995</td>\n",
       "    </tr>\n",
       "    <tr>\n",
       "      <th>1</th>\n",
       "      <td>0.002010</td>\n",
       "      <td>0.014248</td>\n",
       "      <td>0.008129</td>\n",
       "    </tr>\n",
       "    <tr>\n",
       "      <th>2</th>\n",
       "      <td>0.158129</td>\n",
       "      <td>0.231421</td>\n",
       "      <td>0.194775</td>\n",
       "    </tr>\n",
       "    <tr>\n",
       "      <th>3</th>\n",
       "      <td>0.096000</td>\n",
       "      <td>0.166438</td>\n",
       "      <td>0.131219</td>\n",
       "    </tr>\n",
       "    <tr>\n",
       "      <th>4</th>\n",
       "      <td>0.520879</td>\n",
       "      <td>0.630755</td>\n",
       "      <td>0.575817</td>\n",
       "    </tr>\n",
       "    <tr>\n",
       "      <th>...</th>\n",
       "      <td>...</td>\n",
       "      <td>...</td>\n",
       "      <td>...</td>\n",
       "    </tr>\n",
       "    <tr>\n",
       "      <th>90062</th>\n",
       "      <td>0.001539</td>\n",
       "      <td>0.002472</td>\n",
       "      <td>0.002005</td>\n",
       "    </tr>\n",
       "    <tr>\n",
       "      <th>90063</th>\n",
       "      <td>0.293352</td>\n",
       "      <td>0.454370</td>\n",
       "      <td>0.373861</td>\n",
       "    </tr>\n",
       "    <tr>\n",
       "      <th>90064</th>\n",
       "      <td>0.467433</td>\n",
       "      <td>0.548639</td>\n",
       "      <td>0.508036</td>\n",
       "    </tr>\n",
       "    <tr>\n",
       "      <th>90065</th>\n",
       "      <td>0.174970</td>\n",
       "      <td>0.323370</td>\n",
       "      <td>0.249170</td>\n",
       "    </tr>\n",
       "    <tr>\n",
       "      <th>90066</th>\n",
       "      <td>0.001940</td>\n",
       "      <td>0.002580</td>\n",
       "      <td>0.002260</td>\n",
       "    </tr>\n",
       "  </tbody>\n",
       "</table>\n",
       "<p>90067 rows × 3 columns</p>\n",
       "</div>"
      ]
     },
     "execution_count": 12,
     "metadata": {},
     "output_type": "execute_result"
    }
   ],
   "execution_count": 12
  },
  {
   "cell_type": "code",
   "id": "252c74d6-3342-450e-ade0-dde7bb6dff55",
   "metadata": {
    "ExecuteTime": {
     "end_time": "2025-02-27T00:27:45.598830Z",
     "start_time": "2025-02-27T00:27:45.413511Z"
    }
   },
   "source": [
    "seed=808\n",
    "tmp_submission.to_csv(f'seed_{seed}_probability.csv', index=False, encoding='utf-8-sig')"
   ],
   "outputs": [],
   "execution_count": 13
  },
  {
   "cell_type": "code",
   "id": "56e75c87-9b01-4aa4-84d2-5db6a6fb0db4",
   "metadata": {
    "ExecuteTime": {
     "end_time": "2025-02-27T00:27:46.481657Z",
     "start_time": "2025-02-27T00:27:46.467656Z"
    }
   },
   "source": [
    "final_pred = tmp_submission.loc[:, 'row_avg']"
   ],
   "outputs": [],
   "execution_count": 14
  },
  {
   "cell_type": "code",
   "id": "4ad637b1-a867-436a-bc9a-bac6c44dc503",
   "metadata": {
    "ExecuteTime": {
     "end_time": "2025-02-27T00:27:47.311961Z",
     "start_time": "2025-02-27T00:27:47.268964Z"
    }
   },
   "source": [
    "submit = pd.read_csv(sample_path)\n",
    "submit['probability'] = final_pred\n",
    "submit"
   ],
   "outputs": [
    {
     "data": {
      "text/plain": [
       "               ID  probability\n",
       "0      TEST_00000     0.001995\n",
       "1      TEST_00001     0.008129\n",
       "2      TEST_00002     0.194775\n",
       "3      TEST_00003     0.131219\n",
       "4      TEST_00004     0.575817\n",
       "...           ...          ...\n",
       "90062  TEST_90062     0.002005\n",
       "90063  TEST_90063     0.373861\n",
       "90064  TEST_90064     0.508036\n",
       "90065  TEST_90065     0.249170\n",
       "90066  TEST_90066     0.002260\n",
       "\n",
       "[90067 rows x 2 columns]"
      ],
      "text/html": [
       "<div>\n",
       "<style scoped>\n",
       "    .dataframe tbody tr th:only-of-type {\n",
       "        vertical-align: middle;\n",
       "    }\n",
       "\n",
       "    .dataframe tbody tr th {\n",
       "        vertical-align: top;\n",
       "    }\n",
       "\n",
       "    .dataframe thead th {\n",
       "        text-align: right;\n",
       "    }\n",
       "</style>\n",
       "<table border=\"1\" class=\"dataframe\">\n",
       "  <thead>\n",
       "    <tr style=\"text-align: right;\">\n",
       "      <th></th>\n",
       "      <th>ID</th>\n",
       "      <th>probability</th>\n",
       "    </tr>\n",
       "  </thead>\n",
       "  <tbody>\n",
       "    <tr>\n",
       "      <th>0</th>\n",
       "      <td>TEST_00000</td>\n",
       "      <td>0.001995</td>\n",
       "    </tr>\n",
       "    <tr>\n",
       "      <th>1</th>\n",
       "      <td>TEST_00001</td>\n",
       "      <td>0.008129</td>\n",
       "    </tr>\n",
       "    <tr>\n",
       "      <th>2</th>\n",
       "      <td>TEST_00002</td>\n",
       "      <td>0.194775</td>\n",
       "    </tr>\n",
       "    <tr>\n",
       "      <th>3</th>\n",
       "      <td>TEST_00003</td>\n",
       "      <td>0.131219</td>\n",
       "    </tr>\n",
       "    <tr>\n",
       "      <th>4</th>\n",
       "      <td>TEST_00004</td>\n",
       "      <td>0.575817</td>\n",
       "    </tr>\n",
       "    <tr>\n",
       "      <th>...</th>\n",
       "      <td>...</td>\n",
       "      <td>...</td>\n",
       "    </tr>\n",
       "    <tr>\n",
       "      <th>90062</th>\n",
       "      <td>TEST_90062</td>\n",
       "      <td>0.002005</td>\n",
       "    </tr>\n",
       "    <tr>\n",
       "      <th>90063</th>\n",
       "      <td>TEST_90063</td>\n",
       "      <td>0.373861</td>\n",
       "    </tr>\n",
       "    <tr>\n",
       "      <th>90064</th>\n",
       "      <td>TEST_90064</td>\n",
       "      <td>0.508036</td>\n",
       "    </tr>\n",
       "    <tr>\n",
       "      <th>90065</th>\n",
       "      <td>TEST_90065</td>\n",
       "      <td>0.249170</td>\n",
       "    </tr>\n",
       "    <tr>\n",
       "      <th>90066</th>\n",
       "      <td>TEST_90066</td>\n",
       "      <td>0.002260</td>\n",
       "    </tr>\n",
       "  </tbody>\n",
       "</table>\n",
       "<p>90067 rows × 2 columns</p>\n",
       "</div>"
      ]
     },
     "execution_count": 15,
     "metadata": {},
     "output_type": "execute_result"
    }
   ],
   "execution_count": 15
  },
  {
   "cell_type": "code",
   "id": "66efbea0-3776-4153-b071-9782dbb0f072",
   "metadata": {
    "ExecuteTime": {
     "end_time": "2025-02-27T00:27:53.587043Z",
     "start_time": "2025-02-27T00:27:53.495987Z"
    }
   },
   "source": "submit.to_csv('./666666666666666.csv',index=False)",
   "outputs": [],
   "execution_count": 16
  },
  {
   "metadata": {},
   "cell_type": "code",
   "outputs": [],
   "execution_count": null,
   "source": "",
   "id": "5eb0f2b4a7e9876"
  }
 ],
 "metadata": {
  "kernelspec": {
   "display_name": "Python 3 (ipykernel)",
   "language": "python",
   "name": "python3"
  },
  "language_info": {
   "codemirror_mode": {
    "name": "ipython",
    "version": 3
   },
   "file_extension": ".py",
   "mimetype": "text/x-python",
   "name": "python",
   "nbconvert_exporter": "python",
   "pygments_lexer": "ipython3",
   "version": "3.10.16"
  }
 },
 "nbformat": 4,
 "nbformat_minor": 5
}
