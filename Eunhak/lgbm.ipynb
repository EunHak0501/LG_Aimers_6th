{
 "cells": [
  {
   "cell_type": "code",
   "id": "initial_id",
   "metadata": {
    "ExecuteTime": {
     "end_time": "2025-03-15T14:17:09.769895Z",
     "start_time": "2025-03-15T14:17:08.599157Z"
    }
   },
   "source": [
    "import pandas as pd\n",
    "import numpy as np\n",
    "import warnings\n",
    "\n",
    "from LG_Aimers_6th.cal_auc import calculate_auc\n",
    "from LG_Aimers_6th.lgbm_process import lgbm_process\n",
    "\n",
    "warnings.simplefilter(action='ignore', category=FutureWarning)\n",
    "\n",
    "from lightgbm import LGBMClassifier\n",
    "from sklearn.model_selection import StratifiedKFold\n",
    "from sklearn.metrics import roc_auc_score, accuracy_score, f1_score"
   ],
   "outputs": [],
   "execution_count": 1
  },
  {
   "cell_type": "markdown",
   "id": "08070c26-a0d1-41fc-8548-2ab9a390d551",
   "metadata": {},
   "source": [
    "## LGBM"
   ]
  },
  {
   "metadata": {
    "ExecuteTime": {
     "end_time": "2025-03-15T14:17:09.785894Z",
     "start_time": "2025-03-15T14:17:09.772897Z"
    }
   },
   "cell_type": "code",
   "source": [
    "seed = 10\n",
    "folds = 10"
   ],
   "id": "43ee38234b2677aa",
   "outputs": [],
   "execution_count": 2
  },
  {
   "metadata": {
    "ExecuteTime": {
     "end_time": "2025-03-15T14:17:12.452834Z",
     "start_time": "2025-03-15T14:17:09.831945Z"
    }
   },
   "cell_type": "code",
   "source": [
    "train_path = f'../data/custom_train_{seed}.csv'\n",
    "test_path = f'../data/custom_test_{seed}.csv'\n",
    "\n",
    "train = pd.read_csv(train_path).drop(columns=[\"ID\"])\n",
    "test = pd.read_csv(test_path).drop(columns=[\"ID\"])\n",
    "train, test = lgbm_process(train, test)\n",
    "print(train.shape, test.shape)"
   ],
   "id": "db22507b8824c256",
   "outputs": [
    {
     "name": "stdout",
     "output_type": "stream",
     "text": [
      "(205080, 67) (51271, 66)\n"
     ]
    }
   ],
   "execution_count": 3
  },
  {
   "cell_type": "code",
   "id": "208e47ed6c1b07f6",
   "metadata": {
    "ExecuteTime": {
     "end_time": "2025-03-15T14:18:26.850366Z",
     "start_time": "2025-03-15T14:17:12.468835Z"
    }
   },
   "source": [
    "train = pd.read_csv(train_path).drop(columns=['ID'])\n",
    "test = pd.read_csv(test_path).drop(columns=['ID'])\n",
    "\n",
    "total_auc, total_acc, total_f1 = [], [], []\n",
    "test_preds_lgbm = []\n",
    "\n",
    "\n",
    "skf = StratifiedKFold(n_splits=folds, shuffle=True, random_state=seed)\n",
    "auc_scores, acc_scores,  f1_scores = [], [], []\n",
    "\n",
    "for fold, (train_idx, valid_idx) in enumerate(skf.split(train.drop(columns=['임신 성공 여부']), train[\"임신 성공 여부\"])):\n",
    "    fold_train = train.iloc[train_idx].copy().reset_index(drop=True)\n",
    "    fold_train2 = train.iloc[train_idx].copy().reset_index(drop=True)\n",
    "    fold_valid = train.iloc[valid_idx].copy().reset_index(drop=True)\n",
    "    fold_test = test.copy()\n",
    "\n",
    "    fold_train, fold_valid = lgbm_process(fold_train, fold_valid, seed=seed)\n",
    "    fold_train2, fold_test = lgbm_process(fold_train2, fold_test, seed=seed)\n",
    "\n",
    "    X_train = fold_train.drop(columns=['임신 성공 여부'])\n",
    "    X_valid = fold_valid.drop(columns=['임신 성공 여부'])\n",
    "    y_train = fold_train['임신 성공 여부']\n",
    "    y_valid = fold_valid['임신 성공 여부']\n",
    "\n",
    "    # Optuna\n",
    "    lgbm_params = {\n",
    "        'n_estimators': 1134,\n",
    "        'learning_rate': 0.009183378614268902,\n",
    "        'max_depth': 15,\n",
    "        'num_leaves': 59,\n",
    "        'min_child_samples': 56,\n",
    "        'subsample': 0.5894604069264655,\n",
    "        'colsample_bytree': 0.6305670256882752,\n",
    "        'reg_alpha': 7.47936987466662,\n",
    "        'reg_lambda': 0.0010986427203281623,\n",
    "    }\n",
    "\n",
    "    model_lgb = LGBMClassifier(\n",
    "        **lgbm_params,\n",
    "        verbosity=-1,\n",
    "        n_jobs=-1,\n",
    "        random_state=seed,\n",
    "        early_stopping_rounds=100,\n",
    "    )\n",
    "\n",
    "    model_lgb.fit(\n",
    "        X_train, y_train,\n",
    "        eval_set=(X_valid, y_valid),\n",
    "    )\n",
    "\n",
    "    valid_preds_proba  = model_lgb.predict_proba(X_valid)[:, 1]\n",
    "    valid_preds_class = model_lgb.predict(X_valid)  # 클래스 예측값 (0 또는 1)\n",
    "\n",
    "    # AUC, Accuracy, F1-score 계산\n",
    "    auc_ = roc_auc_score(y_valid, valid_preds_proba)\n",
    "    acc_ = accuracy_score(y_valid, valid_preds_class)\n",
    "    f1_ = f1_score(y_valid, valid_preds_class)\n",
    "\n",
    "    print(f\"Seed[{seed:<3}] Fold {fold + 1} | AUC: {auc_:.7f} | Acc: {acc_:.7f} | F1: {f1_:.7f}\")\n",
    "\n",
    "    auc_scores.append(auc_)\n",
    "    acc_scores.append(acc_)\n",
    "    f1_scores.append(f1_)\n",
    "\n",
    "    total_auc.append(auc_)\n",
    "    total_acc.append(acc_)\n",
    "    total_f1.append(f1_)\n",
    "\n",
    "    test_pred = model_lgb.predict_proba(fold_test)[:, 1]\n",
    "    test_preds_lgbm.append(test_pred)\n",
    "\n",
    "# fold 별 평균 성능 계산\n",
    "avg_auc = np.mean(auc_scores)\n",
    "avg_acc = np.mean(acc_scores)\n",
    "avg_f1 = np.mean(f1_scores)\n",
    "\n",
    "print(\"-\" * 80)\n",
    "print(f\"Seed[{seed:<3}] Average Metrics | AUC: {avg_auc:.7f} | Acc: {avg_acc:.7f} | F1: {avg_f1:.7f}\")"
   ],
   "outputs": [
    {
     "name": "stdout",
     "output_type": "stream",
     "text": [
      "Seed[10 ] Fold 1 | AUC: 0.7441088 | Acc: 0.7459528 | F1: 0.1962357\n",
      "Seed[10 ] Fold 2 | AUC: 0.7433452 | Acc: 0.7448800 | F1: 0.1822445\n",
      "Seed[10 ] Fold 3 | AUC: 0.7332702 | Acc: 0.7468793 | F1: 0.1880181\n",
      "Seed[10 ] Fold 4 | AUC: 0.7337899 | Acc: 0.7453189 | F1: 0.1885972\n",
      "Seed[10 ] Fold 5 | AUC: 0.7371828 | Acc: 0.7453189 | F1: 0.1781275\n"
     ]
    },
    {
     "name": "stderr",
     "output_type": "stream",
     "text": [
      "C:\\Users\\eunhak\\anaconda3\\envs\\KBoat_1\\lib\\site-packages\\sklearn\\preprocessing\\_label.py:900: UserWarning: unknown class(es) ['연구용'] will be ignored\n",
      "  warnings.warn(\n"
     ]
    },
    {
     "name": "stdout",
     "output_type": "stream",
     "text": [
      "Seed[10 ] Fold 6 | AUC: 0.7484867 | Acc: 0.7481471 | F1: 0.1983548\n",
      "Seed[10 ] Fold 7 | AUC: 0.7375917 | Acc: 0.7475132 | F1: 0.1863608\n",
      "Seed[10 ] Fold 8 | AUC: 0.7353404 | Acc: 0.7440511 | F1: 0.1982587\n",
      "Seed[10 ] Fold 9 | AUC: 0.7382444 | Acc: 0.7451239 | F1: 0.1887320\n",
      "Seed[10 ] Fold 10 | AUC: 0.7431299 | Acc: 0.7460503 | F1: 0.1972873\n",
      "--------------------------------------------------------------------------------\n",
      "Seed[10 ] Average Metrics | AUC: 0.7394490 | Acc: 0.7459235 | F1: 0.1902217\n"
     ]
    }
   ],
   "execution_count": 4
  },
  {
   "cell_type": "code",
   "id": "7b3767f564ebeb3d",
   "metadata": {
    "scrolled": true,
    "ExecuteTime": {
     "end_time": "2025-03-15T14:18:26.975388Z",
     "start_time": "2025-03-15T14:18:26.960369Z"
    }
   },
   "source": [
    "tmp_submission = pd.DataFrame({f'lgbm_{seed}': np.mean(test_preds_lgbm, axis=0)})\n",
    "tmp_submission"
   ],
   "outputs": [
    {
     "data": {
      "text/plain": [
       "        lgbm_10\n",
       "0      0.347610\n",
       "1      0.095510\n",
       "2      0.001306\n",
       "3      0.161596\n",
       "4      0.473142\n",
       "...         ...\n",
       "51266  0.256017\n",
       "51267  0.231315\n",
       "51268  0.174890\n",
       "51269  0.033153\n",
       "51270  0.136169\n",
       "\n",
       "[51271 rows x 1 columns]"
      ],
      "text/html": [
       "<div>\n",
       "<style scoped>\n",
       "    .dataframe tbody tr th:only-of-type {\n",
       "        vertical-align: middle;\n",
       "    }\n",
       "\n",
       "    .dataframe tbody tr th {\n",
       "        vertical-align: top;\n",
       "    }\n",
       "\n",
       "    .dataframe thead th {\n",
       "        text-align: right;\n",
       "    }\n",
       "</style>\n",
       "<table border=\"1\" class=\"dataframe\">\n",
       "  <thead>\n",
       "    <tr style=\"text-align: right;\">\n",
       "      <th></th>\n",
       "      <th>lgbm_10</th>\n",
       "    </tr>\n",
       "  </thead>\n",
       "  <tbody>\n",
       "    <tr>\n",
       "      <th>0</th>\n",
       "      <td>0.347610</td>\n",
       "    </tr>\n",
       "    <tr>\n",
       "      <th>1</th>\n",
       "      <td>0.095510</td>\n",
       "    </tr>\n",
       "    <tr>\n",
       "      <th>2</th>\n",
       "      <td>0.001306</td>\n",
       "    </tr>\n",
       "    <tr>\n",
       "      <th>3</th>\n",
       "      <td>0.161596</td>\n",
       "    </tr>\n",
       "    <tr>\n",
       "      <th>4</th>\n",
       "      <td>0.473142</td>\n",
       "    </tr>\n",
       "    <tr>\n",
       "      <th>...</th>\n",
       "      <td>...</td>\n",
       "    </tr>\n",
       "    <tr>\n",
       "      <th>51266</th>\n",
       "      <td>0.256017</td>\n",
       "    </tr>\n",
       "    <tr>\n",
       "      <th>51267</th>\n",
       "      <td>0.231315</td>\n",
       "    </tr>\n",
       "    <tr>\n",
       "      <th>51268</th>\n",
       "      <td>0.174890</td>\n",
       "    </tr>\n",
       "    <tr>\n",
       "      <th>51269</th>\n",
       "      <td>0.033153</td>\n",
       "    </tr>\n",
       "    <tr>\n",
       "      <th>51270</th>\n",
       "      <td>0.136169</td>\n",
       "    </tr>\n",
       "  </tbody>\n",
       "</table>\n",
       "<p>51271 rows × 1 columns</p>\n",
       "</div>"
      ]
     },
     "execution_count": 5,
     "metadata": {},
     "output_type": "execute_result"
    }
   ],
   "execution_count": 5
  },
  {
   "metadata": {
    "ExecuteTime": {
     "end_time": "2025-03-15T14:18:27.943531Z",
     "start_time": "2025-03-15T14:18:27.007389Z"
    }
   },
   "cell_type": "code",
   "source": [
    "score = calculate_auc(tmp_submission, seed=seed)\n",
    "score"
   ],
   "id": "6f66806408ec823",
   "outputs": [
    {
     "data": {
      "text/plain": [
       "0.7406751818096897"
      ]
     },
     "execution_count": 6,
     "metadata": {},
     "output_type": "execute_result"
    }
   ],
   "execution_count": 6
  },
  {
   "metadata": {
    "ExecuteTime": {
     "end_time": "2025-03-15T14:18:27.989537Z",
     "start_time": "2025-03-15T14:18:27.976534Z"
    }
   },
   "cell_type": "code",
   "source": "",
   "id": "5cec520cb6f2c83e",
   "outputs": [],
   "execution_count": null
  }
 ],
 "metadata": {
  "kernelspec": {
   "display_name": "Python 3 (ipykernel)",
   "language": "python",
   "name": "python3"
  },
  "language_info": {
   "codemirror_mode": {
    "name": "ipython",
    "version": 3
   },
   "file_extension": ".py",
   "mimetype": "text/x-python",
   "name": "python",
   "nbconvert_exporter": "python",
   "pygments_lexer": "ipython3",
   "version": "3.10.16"
  }
 },
 "nbformat": 4,
 "nbformat_minor": 5
}
