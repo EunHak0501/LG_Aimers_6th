{
 "cells": [
  {
   "metadata": {},
   "cell_type": "code",
   "outputs": [],
   "execution_count": null,
   "source": [
    "import numpy as np\n",
    "import pandas as pd\n",
    "\n",
    "data_seed = 9\n",
    "\n",
    "tabm_preds = pd.read_csv(f'TabM_{data_seed}.csv')\n",
    "lgbm_preds = pd.read_csv(f'lgbm_catboost_{data_seed}.csv', usecols=[0])\n",
    "cat_preds = pd.read_csv(f'lgbm_catboost_{data_seed}.csv', usecols=[1])\n",
    "\n",
    "print(tabm_preds.shape, lgbm_preds.shape, cat_preds.shape)"
   ],
   "id": "ea95998109e5a9e2"
  },
  {
   "metadata": {},
   "cell_type": "code",
   "outputs": [],
   "execution_count": null,
   "source": [
    "final_preds = pd.concat([\n",
    "    tabm_preds,\n",
    "    lgbm_preds,\n",
    "    cat_preds\n",
    "], axis=1)\n",
    "final_preds.shape"
   ],
   "id": "dcb2c6252502bb49"
  },
  {
   "metadata": {},
   "cell_type": "code",
   "outputs": [],
   "execution_count": null,
   "source": [
    "final_preds['row_avg'] = final_preds.mean(axis=1)\n",
    "final_preds"
   ],
   "id": "94f0988325159ab2"
  },
  {
   "metadata": {},
   "cell_type": "code",
   "outputs": [],
   "execution_count": null,
   "source": [
    "from LG_Aimers_6th.cal_auc import calculate_auc\n",
    "\n",
    "score = calculate_auc(final_preds['row_avg'], seed=data_seed)\n",
    "score"
   ],
   "id": "21833a58d253c9a2"
  },
  {
   "metadata": {},
   "cell_type": "code",
   "outputs": [],
   "execution_count": null,
   "source": "",
   "id": "3894ce4020082352"
  }
 ],
 "metadata": {},
 "nbformat": 5,
 "nbformat_minor": 9
}
