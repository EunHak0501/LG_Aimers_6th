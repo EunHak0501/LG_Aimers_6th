{
 "cells": [
  {
   "cell_type": "code",
   "id": "b0919eeb-bbb3-48d4-ae3f-3dac6b370d95",
   "metadata": {
    "ExecuteTime": {
     "end_time": "2025-03-30T10:14:05.496339Z",
     "start_time": "2025-03-30T10:13:59.895183Z"
    }
   },
   "source": [
    "import pandas as pd\n",
    "import numpy as np\n",
    "import sqlite3\n",
    "import shutil\n",
    "import ipynbname\n",
    "import datetime\n",
    "import sys\n",
    "import random\n",
    "import os\n",
    "from sklearn.model_selection import StratifiedKFold\n",
    "from sklearn.metrics import roc_auc_score\n",
    "from sklearn.preprocessing import LabelEncoder, StandardScaler, QuantileTransformer, MultiLabelBinarizer\n",
    "from sklearn.impute import SimpleImputer\n",
    "\n",
    "from pytorch_tabular import TabularModel\n",
    "from pytorch_tabular.models import GANDALFConfig\n",
    "from pytorch_tabular.config import (\n",
    "    DataConfig,\n",
    "    OptimizerConfig,\n",
    "    TrainerConfig,\n",
    "    ExperimentConfig,\n",
    ")\n",
    "\n",
    "\n",
    "from Process_Function import RareCategoryTransformer\n",
    "from Visualization_function import *\n",
    "from LG_Aimers_6th.cal_auc import calculate_auc\n",
    "import warnings\n",
    "warnings.filterwarnings(action='ignore')"
   ],
   "outputs": [],
   "execution_count": 1
  },
  {
   "cell_type": "markdown",
   "id": "cd8b152b-c7a9-40f1-975a-516b764fcadd",
   "metadata": {},
   "source": [
    "## 2. Data Load"
   ]
  },
  {
   "cell_type": "code",
   "id": "feed2e5f-fb44-4ec5-8546-711ee29221cd",
   "metadata": {
    "ExecuteTime": {
     "end_time": "2025-03-30T10:14:06.371760Z",
     "start_time": "2025-03-30T10:14:05.500340Z"
    }
   },
   "source": [
    "data_seed = 7\n",
    "\n",
    "train_path = f'../data/custom_train_{data_seed}.csv'\n",
    "test_path = f'../data/custom_test_{data_seed}.csv'\n",
    "\n",
    "# 학습/평가 데이터 로드\n",
    "train = pd.read_csv(train_path).drop(columns=['ID'])\n",
    "test = pd.read_csv(test_path).drop(columns=['ID'])\n",
    "\n",
    "print(train.shape, test.shape)"
   ],
   "outputs": [
    {
     "name": "stdout",
     "output_type": "stream",
     "text": [
      "(205080, 68) (51271, 67)\n"
     ]
    }
   ],
   "execution_count": 2
  },
  {
   "metadata": {
    "ExecuteTime": {
     "end_time": "2025-03-30T10:14:11.025379Z",
     "start_time": "2025-03-30T10:14:06.434268Z"
    }
   },
   "cell_type": "code",
   "source": [
    "def drop_columns(df):\n",
    "    cols = [\n",
    "        '불임 원인 - 여성 요인',  # 고유값 1\n",
    "        '불임 원인 - 정자 면역학적 요인',  # train, test 모두 '1'인 데이터 1개 >> 신뢰할 수 없음\n",
    "        '난자 해동 경과일',\n",
    "    ]\n",
    "    df = df.drop(cols, axis=1)\n",
    "    return df\n",
    "\n",
    "def 특정시술유형(train, test):\n",
    "    def categorize_procedure(proc):\n",
    "        tokens = [token.strip() for token in proc.split(\",\") if token.strip() and not token.strip().isdigit()]\n",
    "        # 우선순위에 따른 범주화\n",
    "        if tokens.count(\"Unknown\") >= 1:\n",
    "            return \"Unknown\"\n",
    "        if tokens.count(\"AH\") >= 1:\n",
    "            return \"AH\"\n",
    "        if tokens.count(\"BLASTOCYST\") >= 1:\n",
    "            return \"BLASTOCYST\"\n",
    "        if tokens.count(\"ICSI\") >= 2 or tokens.count(\"IVF\") >= 2:\n",
    "            return \"2ICSI_2IVF\"\n",
    "        if tokens.count(\"IVF\") >= 1 and tokens.count(\"ICSI\") >= 1:\n",
    "            return \"IVF_ICSI\"\n",
    "        if tokens == \"ICSI\":\n",
    "            return \"ICSI\"\n",
    "        if tokens == \"IVF\":\n",
    "            return \"IVF\"\n",
    "        return \",\".join(tokens) if tokens else None\n",
    "\n",
    "    for df in [train, test]:\n",
    "        df['특정 시술 유형'] = df['특정 시술 유형'].str.replace(\" / \", \",\")\n",
    "        df['특정 시술 유형'] = df['특정 시술 유형'].str.replace(\":\", \",\")\n",
    "        df['특정 시술 유형'] = df['특정 시술 유형'].str.replace(\" \", \"\")\n",
    "\n",
    "    counts = train['특정 시술 유형'].value_counts()\n",
    "    allowed_categories = counts[counts >= 100].index.tolist()\n",
    "\n",
    "    # allowed_categories에 속하지 않는 값은 \"Unknown\"으로 대체\n",
    "    train.loc[~train['특정 시술 유형'].isin(allowed_categories), '특정 시술 유형'] = \"Unknown\"\n",
    "    test.loc[~test['특정 시술 유형'].isin(allowed_categories), '특정 시술 유형'] = \"Unknown\"\n",
    "\n",
    "    train['특정 시술 유형'] = train['특정 시술 유형'].apply(categorize_procedure)\n",
    "    test['특정 시술 유형'] = test['특정 시술 유형'].apply(categorize_procedure)\n",
    "\n",
    "    train['시술유형_통합'] = train['시술 유형'].astype(str) + '_' + train['특정 시술 유형'].astype(str)\n",
    "    test['시술유형_통합'] = test['시술 유형'].astype(str) + '_' + test['특정 시술 유형'].astype(str)\n",
    "\n",
    "    drop_cols = ['시술 유형', '특정 시술 유형']\n",
    "    train = train.drop(drop_cols, axis=1)\n",
    "    test = test.drop(drop_cols, axis=1)\n",
    "\n",
    "    return train, test\n",
    "\n",
    "def 시술횟수(df_train):\n",
    "    for col in [col for col in df_train.columns if '횟수' in col]:\n",
    "        df_train[col] = df_train[col].replace({'6회 이상':'6회'})\n",
    "        df_train[col] = df_train[col].str[0].astype(int)\n",
    "    df_train['시술_임신'] = df_train['총 임신 횟수'] - df_train['총 시술 횟수']\n",
    "    df_train = df_train.drop('총 시술 횟수', axis=1)\n",
    "    return df_train\n",
    "\n",
    "def 배란유도유형(df_train, df_test):\n",
    "    mapping = {\n",
    "        '기록되지 않은 시행': 1,\n",
    "        '알 수 없음': 0,\n",
    "        '세트로타이드 (억제제)': 0,\n",
    "        '생식선 자극 호르몬': 0,\n",
    "    }\n",
    "    df_train['배란 유도 유형'] = df_train['배란 유도 유형'].replace(mapping)\n",
    "    df_test['배란 유도 유형'] = df_test['배란 유도 유형'].replace(mapping)\n",
    "    return df_train, df_test\n",
    "\n",
    "def 난자기증자나이(df_train, df_test):\n",
    "    mapping = {\n",
    "        '만20세 이하': 20,\n",
    "        '만21-25세': 25,\n",
    "        '만26-30세': 30,\n",
    "        '만31-35세': 35,\n",
    "        '알 수 없음': 20,  # 만20세 이하와 동일하게 처리\n",
    "    }\n",
    "    df_train['난자 기증자 나이'] = df_train['난자 기증자 나이'].replace(mapping)\n",
    "    df_test['난자 기증자 나이'] = df_test['난자 기증자 나이'].replace(mapping)\n",
    "    return df_train, df_test\n",
    "\n",
    "def 배아생성주요이유(df_train, df_test):\n",
    "    df_train['배아 생성 주요 이유'] = df_train['배아 생성 주요 이유'].fillna('DI')\n",
    "    df_test['배아 생성 주요 이유'] = df_test['배아 생성 주요 이유'].fillna('DI')\n",
    "\n",
    "    df_train['배아 생성 이유 리스트'] = df_train['배아 생성 주요 이유'].apply(lambda x: [reason.strip() for reason in x.split(',')])\n",
    "    df_test['배아 생성 이유 리스트'] = df_test['배아 생성 주요 이유'].apply(lambda x: [reason.strip() for reason in x.split(',')])\n",
    "\n",
    "    mlb = MultiLabelBinarizer()\n",
    "    train_one_hot = pd.DataFrame(\n",
    "        mlb.fit_transform(df_train['배아 생성 이유 리스트']),\n",
    "        columns=mlb.classes_,\n",
    "        index=df_train.index\n",
    "    )\n",
    "    train_one_hot.columns = ['배아생성이유_' + col for col in train_one_hot.columns]\n",
    "\n",
    "    test_one_hot = pd.DataFrame(\n",
    "        mlb.transform(df_test['배아 생성 이유 리스트']),\n",
    "        columns=mlb.classes_,\n",
    "        index=df_test.index\n",
    "    )\n",
    "    test_one_hot.columns = ['배아생성이유_' + col for col in test_one_hot.columns]\n",
    "\n",
    "    df_train = pd.concat([df_train, train_one_hot], axis=1)\n",
    "    df_test = pd.concat([df_test, test_one_hot], axis=1)\n",
    "\n",
    "    cols_to_drop = [\n",
    "        '배아 생성 주요 이유',\n",
    "        '배아 생성 이유 리스트',\n",
    "        '배아생성이유_연구용',\n",
    "        '배아생성이유_DI'\n",
    "    ]\n",
    "    df_train = df_train.drop(cols_to_drop, axis=1, errors='ignore')\n",
    "    df_test = df_test.drop(cols_to_drop, axis=1, errors='ignore')\n",
    "\n",
    "    cols = ['배아생성이유_기증용',\n",
    "            '배아생성이유_난자 저장용',\n",
    "            '배아생성이유_배아 저장용',\n",
    "            '배아생성이유_현재 시술용']\n",
    "\n",
    "    df_train[cols] = df_train[cols].div(df_train[cols].sum(axis=1).replace(0, np.nan), axis=0).fillna(0)\n",
    "    df_test[cols] = df_test[cols].div(df_test[cols].sum(axis=1).replace(0, np.nan), axis=0).fillna(0)\n",
    "\n",
    "    return df_train, df_test\n",
    "\n",
    "def 단일배아이식여부(df_train, df_val):\n",
    "    df_train['단일 배아 이식 여부'] = df_train['단일 배아 이식 여부'].fillna(0)\n",
    "    df_val['단일 배아 이식 여부'] = df_val['단일 배아 이식 여부'].fillna(0)\n",
    "    return df_train, df_val\n",
    "\n",
    "\n",
    "def 기증자정자와혼합된난자수(df_train, df_test):\n",
    "    df_train[\"기증자 정자와 혼합된 난자 수\"] = df_train[\"기증자 정자와 혼합된 난자 수\"].fillna(2)\n",
    "    df_test[\"기증자 정자와 혼합된 난자 수\"] = df_test[\"기증자 정자와 혼합된 난자 수\"].fillna(2)\n",
    "    return df_train, df_test\n",
    "\n",
    "def label_encoding(train, test, cols):\n",
    "    encoder = LabelEncoder()\n",
    "    for col in cols:\n",
    "        train[col] = encoder.fit_transform(train[col])\n",
    "        test[col] = encoder.transform(test[col])\n",
    "    return train, test\n",
    "\n",
    "def type_to_category(train, test, cols):\n",
    "    train[cols] = train[cols].astype('category')\n",
    "    test[cols] = test[cols].astype('category')\n",
    "    return train, test\n",
    "\n",
    "def impute_nan(train, test):\n",
    "    cols_to_impute = [\n",
    "        '임신 시도 또는 마지막 임신 경과 연수', # DI, IVF랑 관련 X\n",
    "    ]\n",
    "    imputer = SimpleImputer(strategy='mean')\n",
    "    train[cols_to_impute] = imputer.fit_transform(train[cols_to_impute])\n",
    "    test[cols_to_impute] = imputer.transform(test[cols_to_impute])\n",
    "\n",
    "    cols_to_impute = [\n",
    "        '난자 채취 경과일',\n",
    "        '난자 혼합 경과일',\n",
    "        '배아 이식 경과일',\n",
    "        '배아 해동 경과일',\n",
    "\n",
    "        '착상 전 유전 검사 사용 여부',\n",
    "        'PGD 시술 여부',\n",
    "        'PGS 시술 여부',\n",
    "\n",
    "        ### DI only\n",
    "        '착상 전 유전 진단 사용 여부',\n",
    "        '총 생성 배아 수',\n",
    "        '미세주입된 난자 수',\n",
    "        '미세주입에서 생성된 배아 수',\n",
    "        '이식된 배아 수',\n",
    "        '미세주입 배아 이식 수',\n",
    "        '저장된 배아 수',\n",
    "        '미세주입 후 저장된 배아 수',\n",
    "        '해동된 배아 수',\n",
    "        '해동 난자 수',\n",
    "        '수집된 신선 난자 수',\n",
    "        '저장된 신선 난자 수',\n",
    "        '혼합된 난자 수',\n",
    "        '파트너 정자와 혼합된 난자 수',\n",
    "        '기증자 정자와 혼합된 난자 수',\n",
    "        '동결 배아 사용 여부',\n",
    "        '신선 배아 사용 여부',\n",
    "        '기증 배아 사용 여부',\n",
    "        '대리모 여부',\n",
    "        ### DI\n",
    "    ]\n",
    "    train[cols_to_impute] = train[cols_to_impute].fillna(0)\n",
    "    test[cols_to_impute] = test[cols_to_impute].fillna(0)\n",
    "\n",
    "    return train, test\n",
    "\n",
    "def num_feature_scailing(train, test, seed=777):\n",
    "    numeric_cols = train.select_dtypes(include=[\"number\"]).columns.tolist()\n",
    "    cat_cols = [col for col in train.columns if pd.api.types.is_categorical_dtype(train[col])]\n",
    "    cols_to_scale = [\n",
    "        col for col in numeric_cols\n",
    "        if col not in cat_cols and col != '임신 성공 여부'\n",
    "    ]\n",
    "\n",
    "    arr_train = train[cols_to_scale].to_numpy()  # DataFrame -> NumPy\n",
    "    arr_train = arr_train.astype(np.float32)\n",
    "    arr_test = test[cols_to_scale].to_numpy()\n",
    "    arr_test = arr_test.astype(np.float32)\n",
    "\n",
    "    np.random.seed(seed)\n",
    "    random.seed(seed)\n",
    "    noise = (\n",
    "        np.random.default_rng(0)\n",
    "        .normal(0.0, 1e-5, arr_train.shape)\n",
    "        .astype(arr_train.dtype)\n",
    "    )\n",
    "    preprocessing = QuantileTransformer(\n",
    "        n_quantiles=max(min(len(train[cols_to_scale]) // 30, 1000), 10),\n",
    "        output_distribution='normal',\n",
    "        subsample=10**9,\n",
    "    ).fit(arr_train + noise)\n",
    "\n",
    "    # train[cols_to_scale] = preprocessing.transform(arr_train + noise)\n",
    "    train[cols_to_scale] = preprocessing.transform(arr_train)\n",
    "    test[cols_to_scale] = preprocessing.transform(arr_test)\n",
    "    return train, test\n",
    "\n",
    "def drop_single_value_columns(df_train, df_test):\n",
    "    cols_to_drop = [col for col in df_train.columns if df_train[col].nunique() == 1]\n",
    "    return df_train.drop(columns=cols_to_drop), df_test.drop(columns=cols_to_drop)\n",
    "\n",
    "def all_process(train, val):\n",
    "    # 기본 전처리 단계\n",
    "    train, val = drop_columns(train), drop_columns(val)\n",
    "    train, val = 특정시술유형(train, val)\n",
    "    train, val = 시술횟수(train), 시술횟수(val)\n",
    "\n",
    "    train, val = 단일배아이식여부(train, val)\n",
    "    train, val = 배란유도유형(train, val)\n",
    "    train, val = 배아생성주요이유(train, val)\n",
    "\n",
    "    cols_to_encoding = [\n",
    "        \"시술 시기 코드\",\n",
    "        \"시술 당시 나이\",\n",
    "        \"배란 유도 유형\",\n",
    "        # \"클리닉 내 총 시술 횟수\",\n",
    "        # \"IVF 시술 횟수\",\n",
    "        # \"DI 시술 횟수\",\n",
    "        # \"총 임신 횟수\",\n",
    "        # \"IVF 임신 횟수\",\n",
    "        # \"DI 임신 횟수\",\n",
    "        # \"총 출산 횟수\",\n",
    "        # \"IVF 출산 횟수\",\n",
    "        # \"DI 출산 횟수\",\n",
    "        \"난자 출처\",\n",
    "        \"정자 출처\",\n",
    "        \"난자 기증자 나이\",\n",
    "        \"정자 기증자 나이\",\n",
    "        '시술유형_통합',\n",
    "    ]\n",
    "    train, val = label_encoding(train, val, cols=cols_to_encoding)\n",
    "    train, val = type_to_category(train, val, cols=cols_to_encoding)\n",
    "\n",
    "    train, val = impute_nan(train, val)\n",
    "    train, val = num_feature_scailing(train, val)\n",
    "\n",
    "    train, val = drop_single_value_columns(train, val)\n",
    "\n",
    "    return train, val\n",
    "\n",
    "train = pd.read_csv(train_path).drop(columns=['ID'])\n",
    "test = pd.read_csv(test_path).drop(columns=['ID'])\n",
    "\n",
    "train, test = all_process(train, test)\n",
    "\n",
    "cat_cols = [col for col in train.columns if pd.api.types.is_categorical_dtype(train[col])]\n",
    "numeric_cols = [col for col in train.columns if col not in cat_cols and col != '임신 성공 여부']\n",
    "\n",
    "print(f'수치형 변수: {len(numeric_cols)}개 \\n{numeric_cols}')\n",
    "print(f'범주형 변수: {len(cat_cols)}개 \\n{cat_cols}')\n",
    "print(train.shape, test.shape)"
   ],
   "id": "551b53133dd633ee",
   "outputs": [
    {
     "name": "stdout",
     "output_type": "stream",
     "text": [
      "수치형 변수: 57개 \n",
      "['임신 시도 또는 마지막 임신 경과 연수', '배란 자극 여부', '단일 배아 이식 여부', '착상 전 유전 검사 사용 여부', '착상 전 유전 진단 사용 여부', '남성 주 불임 원인', '남성 부 불임 원인', '여성 주 불임 원인', '여성 부 불임 원인', '부부 주 불임 원인', '부부 부 불임 원인', '불명확 불임 원인', '불임 원인 - 난관 질환', '불임 원인 - 남성 요인', '불임 원인 - 배란 장애', '불임 원인 - 자궁경부 문제', '불임 원인 - 자궁내막증', '불임 원인 - 정자 농도', '불임 원인 - 정자 운동성', '불임 원인 - 정자 형태', '클리닉 내 총 시술 횟수', 'IVF 시술 횟수', 'DI 시술 횟수', '총 임신 횟수', 'IVF 임신 횟수', 'DI 임신 횟수', '총 출산 횟수', 'IVF 출산 횟수', 'DI 출산 횟수', '총 생성 배아 수', '미세주입된 난자 수', '미세주입에서 생성된 배아 수', '이식된 배아 수', '미세주입 배아 이식 수', '저장된 배아 수', '미세주입 후 저장된 배아 수', '해동된 배아 수', '해동 난자 수', '수집된 신선 난자 수', '저장된 신선 난자 수', '혼합된 난자 수', '파트너 정자와 혼합된 난자 수', '기증자 정자와 혼합된 난자 수', '동결 배아 사용 여부', '신선 배아 사용 여부', '기증 배아 사용 여부', '대리모 여부', 'PGD 시술 여부', 'PGS 시술 여부', '난자 혼합 경과일', '배아 이식 경과일', '배아 해동 경과일', '시술_임신', '배아생성이유_기증용', '배아생성이유_난자 저장용', '배아생성이유_배아 저장용', '배아생성이유_현재 시술용']\n",
      "범주형 변수: 8개 \n",
      "['시술 시기 코드', '시술 당시 나이', '배란 유도 유형', '난자 출처', '정자 출처', '난자 기증자 나이', '정자 기증자 나이', '시술유형_통합']\n",
      "(205080, 66) (51271, 65)\n"
     ]
    }
   ],
   "execution_count": 3
  },
  {
   "metadata": {
    "ExecuteTime": {
     "end_time": "2025-03-30T10:14:11.104381Z",
     "start_time": "2025-03-30T10:14:11.042381Z"
    }
   },
   "cell_type": "code",
   "source": "train",
   "id": "bd5ee39289b05460",
   "outputs": [
    {
     "data": {
      "text/plain": [
       "       시술 시기 코드 시술 당시 나이  임신 시도 또는 마지막 임신 경과 연수  배란 자극 여부 배란 유도 유형  \\\n",
       "0             6        0               0.012546  0.292676        1   \n",
       "1             4        3               0.012546  0.292676        1   \n",
       "2             2        1               0.012546  0.292676        1   \n",
       "3             5        0               0.012546  0.292676        1   \n",
       "4             2        0               0.012546  0.292676        1   \n",
       "...         ...      ...                    ...       ...      ...   \n",
       "205075        2        3               0.012546  0.292676        1   \n",
       "205076        3        0               0.012546  0.292676        1   \n",
       "205077        0        1               0.012546  0.292676        1   \n",
       "205078        3        0               0.012546 -1.200646        0   \n",
       "205079        3        1               0.012546  0.292676        1   \n",
       "\n",
       "        단일 배아 이식 여부  착상 전 유전 검사 사용 여부  착상 전 유전 진단 사용 여부  남성 주 불임 원인  \\\n",
       "0          1.204935         -0.012186          -0.01585   -0.033983   \n",
       "1         -0.288368         -0.012186          -0.01585   -0.033983   \n",
       "2         -0.288368         -0.012186          -0.01585   -0.033983   \n",
       "3         -0.288368         -0.012186          -0.01585   -0.033983   \n",
       "4          1.204935         -0.012186          -0.01585   -0.033983   \n",
       "...             ...               ...               ...         ...   \n",
       "205075    -0.288368         -0.012186          -0.01585   -0.033983   \n",
       "205076    -0.288368         -0.012186          -0.01585   -0.033983   \n",
       "205077    -0.288368         -0.012186          -0.01585   -0.033983   \n",
       "205078    -0.288368         -0.012186          -0.01585   -0.033983   \n",
       "205079    -0.288368         -0.012186          -0.01585   -0.033983   \n",
       "\n",
       "        남성 부 불임 원인  ...  난자 혼합 경과일  배아 이식 경과일  배아 해동 경과일  임신 성공 여부  시술유형_통합  \\\n",
       "0        -0.014177  ...    0.00014   0.955471  -0.000527         0        4   \n",
       "1        -0.014177  ...    0.00014   0.103057  -0.000527         0        6   \n",
       "2        -0.014177  ...    0.00014   0.103057  -0.000527         0        6   \n",
       "3        -0.014177  ...    0.00014  -1.109261  -0.000527         0        6   \n",
       "4        -0.014177  ...    0.00014   0.955471  -0.000527         1        6   \n",
       "...            ...  ...        ...        ...        ...       ...      ...   \n",
       "205075   -0.014177  ...    0.00014   0.103057  -0.000527         0        6   \n",
       "205076   -0.014177  ...    0.00014   0.103057  -0.000527         0        5   \n",
       "205077   -0.014177  ...    0.00014   0.955471  -0.000527         1        5   \n",
       "205078   -0.014177  ...    0.00014  -1.109261  -0.000527         0        0   \n",
       "205079   -0.014177  ...    0.00014   0.103057  -0.000527         0        5   \n",
       "\n",
       "           시술_임신  배아생성이유_기증용  배아생성이유_난자 저장용  배아생성이유_배아 저장용  배아생성이유_현재 시술용  \n",
       "0       0.797886   -0.019561      -0.015913      -0.048814       0.109365  \n",
       "1      -0.999986   -0.019561      -0.015913      -0.048814       0.109365  \n",
       "2       0.797886   -0.019561      -0.015913      -0.048814       0.109365  \n",
       "3       0.797886    2.261183      -0.015913      -0.048814      -1.399908  \n",
       "4      -0.101796   -0.019561      -0.015913      -0.048814       0.109365  \n",
       "...          ...         ...            ...            ...            ...  \n",
       "205075 -1.346386   -0.019561      -0.015913      -0.048814       0.109365  \n",
       "205076 -0.101796   -0.019561      -0.015913      -0.048814       0.109365  \n",
       "205077  0.797886   -0.019561      -0.015913      -0.048814       0.109365  \n",
       "205078 -1.716415   -0.019561      -0.015913      -0.048814      -1.793899  \n",
       "205079 -0.599937   -0.019561      -0.015913      -0.048814       0.109365  \n",
       "\n",
       "[205080 rows x 66 columns]"
      ],
      "text/html": [
       "<div>\n",
       "<style scoped>\n",
       "    .dataframe tbody tr th:only-of-type {\n",
       "        vertical-align: middle;\n",
       "    }\n",
       "\n",
       "    .dataframe tbody tr th {\n",
       "        vertical-align: top;\n",
       "    }\n",
       "\n",
       "    .dataframe thead th {\n",
       "        text-align: right;\n",
       "    }\n",
       "</style>\n",
       "<table border=\"1\" class=\"dataframe\">\n",
       "  <thead>\n",
       "    <tr style=\"text-align: right;\">\n",
       "      <th></th>\n",
       "      <th>시술 시기 코드</th>\n",
       "      <th>시술 당시 나이</th>\n",
       "      <th>임신 시도 또는 마지막 임신 경과 연수</th>\n",
       "      <th>배란 자극 여부</th>\n",
       "      <th>배란 유도 유형</th>\n",
       "      <th>단일 배아 이식 여부</th>\n",
       "      <th>착상 전 유전 검사 사용 여부</th>\n",
       "      <th>착상 전 유전 진단 사용 여부</th>\n",
       "      <th>남성 주 불임 원인</th>\n",
       "      <th>남성 부 불임 원인</th>\n",
       "      <th>...</th>\n",
       "      <th>난자 혼합 경과일</th>\n",
       "      <th>배아 이식 경과일</th>\n",
       "      <th>배아 해동 경과일</th>\n",
       "      <th>임신 성공 여부</th>\n",
       "      <th>시술유형_통합</th>\n",
       "      <th>시술_임신</th>\n",
       "      <th>배아생성이유_기증용</th>\n",
       "      <th>배아생성이유_난자 저장용</th>\n",
       "      <th>배아생성이유_배아 저장용</th>\n",
       "      <th>배아생성이유_현재 시술용</th>\n",
       "    </tr>\n",
       "  </thead>\n",
       "  <tbody>\n",
       "    <tr>\n",
       "      <th>0</th>\n",
       "      <td>6</td>\n",
       "      <td>0</td>\n",
       "      <td>0.012546</td>\n",
       "      <td>0.292676</td>\n",
       "      <td>1</td>\n",
       "      <td>1.204935</td>\n",
       "      <td>-0.012186</td>\n",
       "      <td>-0.01585</td>\n",
       "      <td>-0.033983</td>\n",
       "      <td>-0.014177</td>\n",
       "      <td>...</td>\n",
       "      <td>0.00014</td>\n",
       "      <td>0.955471</td>\n",
       "      <td>-0.000527</td>\n",
       "      <td>0</td>\n",
       "      <td>4</td>\n",
       "      <td>0.797886</td>\n",
       "      <td>-0.019561</td>\n",
       "      <td>-0.015913</td>\n",
       "      <td>-0.048814</td>\n",
       "      <td>0.109365</td>\n",
       "    </tr>\n",
       "    <tr>\n",
       "      <th>1</th>\n",
       "      <td>4</td>\n",
       "      <td>3</td>\n",
       "      <td>0.012546</td>\n",
       "      <td>0.292676</td>\n",
       "      <td>1</td>\n",
       "      <td>-0.288368</td>\n",
       "      <td>-0.012186</td>\n",
       "      <td>-0.01585</td>\n",
       "      <td>-0.033983</td>\n",
       "      <td>-0.014177</td>\n",
       "      <td>...</td>\n",
       "      <td>0.00014</td>\n",
       "      <td>0.103057</td>\n",
       "      <td>-0.000527</td>\n",
       "      <td>0</td>\n",
       "      <td>6</td>\n",
       "      <td>-0.999986</td>\n",
       "      <td>-0.019561</td>\n",
       "      <td>-0.015913</td>\n",
       "      <td>-0.048814</td>\n",
       "      <td>0.109365</td>\n",
       "    </tr>\n",
       "    <tr>\n",
       "      <th>2</th>\n",
       "      <td>2</td>\n",
       "      <td>1</td>\n",
       "      <td>0.012546</td>\n",
       "      <td>0.292676</td>\n",
       "      <td>1</td>\n",
       "      <td>-0.288368</td>\n",
       "      <td>-0.012186</td>\n",
       "      <td>-0.01585</td>\n",
       "      <td>-0.033983</td>\n",
       "      <td>-0.014177</td>\n",
       "      <td>...</td>\n",
       "      <td>0.00014</td>\n",
       "      <td>0.103057</td>\n",
       "      <td>-0.000527</td>\n",
       "      <td>0</td>\n",
       "      <td>6</td>\n",
       "      <td>0.797886</td>\n",
       "      <td>-0.019561</td>\n",
       "      <td>-0.015913</td>\n",
       "      <td>-0.048814</td>\n",
       "      <td>0.109365</td>\n",
       "    </tr>\n",
       "    <tr>\n",
       "      <th>3</th>\n",
       "      <td>5</td>\n",
       "      <td>0</td>\n",
       "      <td>0.012546</td>\n",
       "      <td>0.292676</td>\n",
       "      <td>1</td>\n",
       "      <td>-0.288368</td>\n",
       "      <td>-0.012186</td>\n",
       "      <td>-0.01585</td>\n",
       "      <td>-0.033983</td>\n",
       "      <td>-0.014177</td>\n",
       "      <td>...</td>\n",
       "      <td>0.00014</td>\n",
       "      <td>-1.109261</td>\n",
       "      <td>-0.000527</td>\n",
       "      <td>0</td>\n",
       "      <td>6</td>\n",
       "      <td>0.797886</td>\n",
       "      <td>2.261183</td>\n",
       "      <td>-0.015913</td>\n",
       "      <td>-0.048814</td>\n",
       "      <td>-1.399908</td>\n",
       "    </tr>\n",
       "    <tr>\n",
       "      <th>4</th>\n",
       "      <td>2</td>\n",
       "      <td>0</td>\n",
       "      <td>0.012546</td>\n",
       "      <td>0.292676</td>\n",
       "      <td>1</td>\n",
       "      <td>1.204935</td>\n",
       "      <td>-0.012186</td>\n",
       "      <td>-0.01585</td>\n",
       "      <td>-0.033983</td>\n",
       "      <td>-0.014177</td>\n",
       "      <td>...</td>\n",
       "      <td>0.00014</td>\n",
       "      <td>0.955471</td>\n",
       "      <td>-0.000527</td>\n",
       "      <td>1</td>\n",
       "      <td>6</td>\n",
       "      <td>-0.101796</td>\n",
       "      <td>-0.019561</td>\n",
       "      <td>-0.015913</td>\n",
       "      <td>-0.048814</td>\n",
       "      <td>0.109365</td>\n",
       "    </tr>\n",
       "    <tr>\n",
       "      <th>...</th>\n",
       "      <td>...</td>\n",
       "      <td>...</td>\n",
       "      <td>...</td>\n",
       "      <td>...</td>\n",
       "      <td>...</td>\n",
       "      <td>...</td>\n",
       "      <td>...</td>\n",
       "      <td>...</td>\n",
       "      <td>...</td>\n",
       "      <td>...</td>\n",
       "      <td>...</td>\n",
       "      <td>...</td>\n",
       "      <td>...</td>\n",
       "      <td>...</td>\n",
       "      <td>...</td>\n",
       "      <td>...</td>\n",
       "      <td>...</td>\n",
       "      <td>...</td>\n",
       "      <td>...</td>\n",
       "      <td>...</td>\n",
       "      <td>...</td>\n",
       "    </tr>\n",
       "    <tr>\n",
       "      <th>205075</th>\n",
       "      <td>2</td>\n",
       "      <td>3</td>\n",
       "      <td>0.012546</td>\n",
       "      <td>0.292676</td>\n",
       "      <td>1</td>\n",
       "      <td>-0.288368</td>\n",
       "      <td>-0.012186</td>\n",
       "      <td>-0.01585</td>\n",
       "      <td>-0.033983</td>\n",
       "      <td>-0.014177</td>\n",
       "      <td>...</td>\n",
       "      <td>0.00014</td>\n",
       "      <td>0.103057</td>\n",
       "      <td>-0.000527</td>\n",
       "      <td>0</td>\n",
       "      <td>6</td>\n",
       "      <td>-1.346386</td>\n",
       "      <td>-0.019561</td>\n",
       "      <td>-0.015913</td>\n",
       "      <td>-0.048814</td>\n",
       "      <td>0.109365</td>\n",
       "    </tr>\n",
       "    <tr>\n",
       "      <th>205076</th>\n",
       "      <td>3</td>\n",
       "      <td>0</td>\n",
       "      <td>0.012546</td>\n",
       "      <td>0.292676</td>\n",
       "      <td>1</td>\n",
       "      <td>-0.288368</td>\n",
       "      <td>-0.012186</td>\n",
       "      <td>-0.01585</td>\n",
       "      <td>-0.033983</td>\n",
       "      <td>-0.014177</td>\n",
       "      <td>...</td>\n",
       "      <td>0.00014</td>\n",
       "      <td>0.103057</td>\n",
       "      <td>-0.000527</td>\n",
       "      <td>0</td>\n",
       "      <td>5</td>\n",
       "      <td>-0.101796</td>\n",
       "      <td>-0.019561</td>\n",
       "      <td>-0.015913</td>\n",
       "      <td>-0.048814</td>\n",
       "      <td>0.109365</td>\n",
       "    </tr>\n",
       "    <tr>\n",
       "      <th>205077</th>\n",
       "      <td>0</td>\n",
       "      <td>1</td>\n",
       "      <td>0.012546</td>\n",
       "      <td>0.292676</td>\n",
       "      <td>1</td>\n",
       "      <td>-0.288368</td>\n",
       "      <td>-0.012186</td>\n",
       "      <td>-0.01585</td>\n",
       "      <td>-0.033983</td>\n",
       "      <td>-0.014177</td>\n",
       "      <td>...</td>\n",
       "      <td>0.00014</td>\n",
       "      <td>0.955471</td>\n",
       "      <td>-0.000527</td>\n",
       "      <td>1</td>\n",
       "      <td>5</td>\n",
       "      <td>0.797886</td>\n",
       "      <td>-0.019561</td>\n",
       "      <td>-0.015913</td>\n",
       "      <td>-0.048814</td>\n",
       "      <td>0.109365</td>\n",
       "    </tr>\n",
       "    <tr>\n",
       "      <th>205078</th>\n",
       "      <td>3</td>\n",
       "      <td>0</td>\n",
       "      <td>0.012546</td>\n",
       "      <td>-1.200646</td>\n",
       "      <td>0</td>\n",
       "      <td>-0.288368</td>\n",
       "      <td>-0.012186</td>\n",
       "      <td>-0.01585</td>\n",
       "      <td>-0.033983</td>\n",
       "      <td>-0.014177</td>\n",
       "      <td>...</td>\n",
       "      <td>0.00014</td>\n",
       "      <td>-1.109261</td>\n",
       "      <td>-0.000527</td>\n",
       "      <td>0</td>\n",
       "      <td>0</td>\n",
       "      <td>-1.716415</td>\n",
       "      <td>-0.019561</td>\n",
       "      <td>-0.015913</td>\n",
       "      <td>-0.048814</td>\n",
       "      <td>-1.793899</td>\n",
       "    </tr>\n",
       "    <tr>\n",
       "      <th>205079</th>\n",
       "      <td>3</td>\n",
       "      <td>1</td>\n",
       "      <td>0.012546</td>\n",
       "      <td>0.292676</td>\n",
       "      <td>1</td>\n",
       "      <td>-0.288368</td>\n",
       "      <td>-0.012186</td>\n",
       "      <td>-0.01585</td>\n",
       "      <td>-0.033983</td>\n",
       "      <td>-0.014177</td>\n",
       "      <td>...</td>\n",
       "      <td>0.00014</td>\n",
       "      <td>0.103057</td>\n",
       "      <td>-0.000527</td>\n",
       "      <td>0</td>\n",
       "      <td>5</td>\n",
       "      <td>-0.599937</td>\n",
       "      <td>-0.019561</td>\n",
       "      <td>-0.015913</td>\n",
       "      <td>-0.048814</td>\n",
       "      <td>0.109365</td>\n",
       "    </tr>\n",
       "  </tbody>\n",
       "</table>\n",
       "<p>205080 rows × 66 columns</p>\n",
       "</div>"
      ]
     },
     "execution_count": 4,
     "metadata": {},
     "output_type": "execute_result"
    }
   ],
   "execution_count": 4
  },
  {
   "metadata": {
    "ExecuteTime": {
     "end_time": "2025-03-30T10:14:11.166136Z",
     "start_time": "2025-03-30T10:14:11.151136Z"
    }
   },
   "cell_type": "code",
   "source": [
    "trainer_config = TrainerConfig(\n",
    "    batch_size=2048,\n",
    "    # accumulate_grad_batches=1024,\n",
    "    data_aware_init_batch_size=2000,\n",
    "    auto_lr_find=False,\n",
    "    max_epochs=100,\n",
    "    accelerator='gpu',\n",
    "    early_stopping='valid_loss',\n",
    "    early_stopping_min_delta=0.001,\n",
    "    early_stopping_mode='min',\n",
    "    early_stopping_patience=3,\n",
    "    checkpoints='valid_loss',\n",
    "    checkpoints_path='saved_models',\n",
    "    checkpoints_save_top_k=1,\n",
    "    progress_bar='simple',\n",
    ")\n",
    "optimizer_config = OptimizerConfig()"
   ],
   "id": "20c251945af79be0",
   "outputs": [],
   "execution_count": 5
  },
  {
   "metadata": {
    "ExecuteTime": {
     "end_time": "2025-03-30T10:19:27.111635Z",
     "start_time": "2025-03-30T10:14:11.198662Z"
    }
   },
   "cell_type": "code",
   "source": [
    "n_splits = 5\n",
    "seed_list = [333]\n",
    "all_auc = []\n",
    "test_preds = []\n",
    "is_first = True\n",
    "\n",
    "for seed in seed_list:\n",
    "    skf = StratifiedKFold(n_splits=n_splits, shuffle=True, random_state=seed)\n",
    "    auc_scores = []\n",
    "    fold_test_preds = []\n",
    "\n",
    "    train = pd.read_csv(train_path).drop(columns=['ID'])\n",
    "    test = pd.read_csv(test_path).drop(columns=['ID'])\n",
    "\n",
    "    for fold, (train_idx, valid_idx) in enumerate(skf.split(train, train['임신 성공 여부'])):\n",
    "        fold_train, fold_valid = train.iloc[train_idx].copy().reset_index(drop=True), train.iloc[valid_idx].copy().reset_index(drop=True)\n",
    "        fold_train2 = fold_train.copy()\n",
    "        fold_test = test.copy()\n",
    "\n",
    "        fold_train, fold_valid = all_process(fold_train, fold_valid)\n",
    "        fold_train2, fold_test = all_process(fold_train2, fold_test)\n",
    "\n",
    "        cat_cols = [col for col in fold_train.columns if pd.api.types.is_categorical_dtype(fold_train[col])]\n",
    "        numeric_cols = [col for col in fold_train.columns if col not in cat_cols and col != '임신 성공 여부']\n",
    "        data_config = DataConfig(\n",
    "            target=[\n",
    "                \"임신 성공 여부\"\n",
    "            ],\n",
    "            continuous_cols=numeric_cols,\n",
    "            categorical_cols=cat_cols,\n",
    "        )\n",
    "\n",
    "        model_config = GANDALFConfig(\n",
    "            task=\"classification\",\n",
    "            gflu_stages=6,\n",
    "            gflu_feature_init_sparsity=0.3,\n",
    "            gflu_dropout=0.0,\n",
    "            learning_rate=1e-3,\n",
    "            metrics=[\"auroc\"],\n",
    "            metrics_prob_input=[True],\n",
    "            seed=seed,\n",
    "        )\n",
    "\n",
    "        tabular_model = TabularModel(\n",
    "            data_config=data_config,\n",
    "            model_config=model_config,\n",
    "            optimizer_config=optimizer_config,\n",
    "            trainer_config=trainer_config,\n",
    "            verbose=False,\n",
    "        )\n",
    "\n",
    "        tabular_model.fit(train=fold_train, validation=fold_valid, seed=seed)\n",
    "\n",
    "        valid_preds = tabular_model.predict(fold_valid).iloc[:, 1]\n",
    "        fold_auc = roc_auc_score(fold_valid['임신 성공 여부'], valid_preds)\n",
    "        print(f'[Fold {fold + 1}] AUC: {fold_auc:.5f}')\n",
    "\n",
    "        auc_scores.append(fold_auc)\n",
    "        test_pred = tabular_model.predict(fold_test).iloc[:, 1]\n",
    "        fold_test_preds.append(test_pred)\n",
    "\n",
    "    test_preds.append(np.mean(fold_test_preds, axis=0))\n",
    "\n",
    "    # 각 seed별 평균 AUC와 표준편차 출력\n",
    "    seed_auc_mean = np.mean(auc_scores)\n",
    "    seed_auc_std = np.std(auc_scores)\n",
    "    all_auc.append(seed_auc_mean)\n",
    "    print(f\"Seed {seed} - Average AUC: {seed_auc_mean:.5f} (STD: {seed_auc_std:.5f})\")\n",
    "    print('=' * 60)\n",
    "\n",
    "\n",
    "\n",
    "# 전체 결과에 대한 평균 및 표준편차 출력\n",
    "total_auc_mean = np.mean(all_auc)\n",
    "total_auc_std = np.std(all_auc)\n",
    "print('-' * 60)\n",
    "print(f'Total Average AUC: {total_auc_mean:.6f} (STD: {total_auc_std:.6f})')"
   ],
   "id": "e18ee9209a5acd26",
   "outputs": [
    {
     "name": "stderr",
     "output_type": "stream",
     "text": [
      "Seed set to 333\n",
      "GPU available: True (cuda), used: True\n",
      "TPU available: False, using: 0 TPU cores\n",
      "HPU available: False, using: 0 HPUs\n",
      "You are using a CUDA device ('NVIDIA GeForce RTX 3090') that has Tensor Cores. To properly utilize them, you should set `torch.set_float32_matmul_precision('medium' | 'high')` which will trade-off precision for performance. For more details, read https://pytorch.org/docs/stable/generated/torch.set_float32_matmul_precision.html#torch.set_float32_matmul_precision\n",
      "LOCAL_RANK: 0 - CUDA_VISIBLE_DEVICES: [0]\n"
     ]
    },
    {
     "data": {
      "text/plain": [
       "Finding best initial lr:   0%|          | 0/100 [00:00<?, ?it/s]"
      ],
      "application/vnd.jupyter.widget-view+json": {
       "version_major": 2,
       "version_minor": 0,
       "model_id": "ad3700acdb9841ab92680082fa4f44f3"
      }
     },
     "metadata": {},
     "output_type": "display_data"
    },
    {
     "name": "stderr",
     "output_type": "stream",
     "text": [
      "`Trainer.fit` stopped: `max_steps=100` reached.\n",
      "Learning rate set to 0.0010964781961431851\n",
      "Restoring states from the checkpoint path at C:\\Users\\eunhak\\workspace\\LG_Aimers_6th\\Eunhak\\.lr_find_309a2c90-a69d-413b-ba73-963c68c4e565.ckpt\n",
      "Restored all states from the checkpoint at C:\\Users\\eunhak\\workspace\\LG_Aimers_6th\\Eunhak\\.lr_find_309a2c90-a69d-413b-ba73-963c68c4e565.ckpt\n",
      "LOCAL_RANK: 0 - CUDA_VISIBLE_DEVICES: [0]\n",
      "\n",
      "  | Name             | Type             | Params | Mode \n",
      "--------------------------------------------------------------\n",
      "0 | _backbone        | GANDALFBackbone  | 256 K  | train\n",
      "1 | _embedding_layer | Embedding1dLayer | 307    | train\n",
      "2 | _head            | Sequential       | 172    | train\n",
      "3 | loss             | CrossEntropyLoss | 0      | train\n",
      "--------------------------------------------------------------\n",
      "256 K     Trainable params\n",
      "0         Non-trainable params\n",
      "256 K     Total params\n",
      "1.026     Total estimated model params size (MB)\n",
      "35        Modules in train mode\n",
      "0         Modules in eval mode\n"
     ]
    },
    {
     "data": {
      "text/plain": [
       "Sanity Checking: |          | 0/? [00:00<?, ?it/s]"
      ],
      "application/vnd.jupyter.widget-view+json": {
       "version_major": 2,
       "version_minor": 0,
       "model_id": "820b8764bde04f4d8d8f6d16ad1aa3d9"
      }
     },
     "metadata": {},
     "output_type": "display_data"
    },
    {
     "data": {
      "text/plain": [
       "Training: |          | 0/? [00:00<?, ?it/s]"
      ],
      "application/vnd.jupyter.widget-view+json": {
       "version_major": 2,
       "version_minor": 0,
       "model_id": "e611602c808e4c2baf04bb0f82420a0a"
      }
     },
     "metadata": {},
     "output_type": "display_data"
    },
    {
     "data": {
      "text/plain": [
       "Validation: |          | 0/? [00:00<?, ?it/s]"
      ],
      "application/vnd.jupyter.widget-view+json": {
       "version_major": 2,
       "version_minor": 0,
       "model_id": "0609c2065eb94edbbe63878f3e8b873c"
      }
     },
     "metadata": {},
     "output_type": "display_data"
    },
    {
     "data": {
      "text/plain": [
       "Validation: |          | 0/? [00:00<?, ?it/s]"
      ],
      "application/vnd.jupyter.widget-view+json": {
       "version_major": 2,
       "version_minor": 0,
       "model_id": "5e846e9eb7654b258b2d6bb9fb20d672"
      }
     },
     "metadata": {},
     "output_type": "display_data"
    },
    {
     "data": {
      "text/plain": [
       "Validation: |          | 0/? [00:00<?, ?it/s]"
      ],
      "application/vnd.jupyter.widget-view+json": {
       "version_major": 2,
       "version_minor": 0,
       "model_id": "67a14dfddc1842fb9c4fb7ee73b9afba"
      }
     },
     "metadata": {},
     "output_type": "display_data"
    },
    {
     "data": {
      "text/plain": [
       "Validation: |          | 0/? [00:00<?, ?it/s]"
      ],
      "application/vnd.jupyter.widget-view+json": {
       "version_major": 2,
       "version_minor": 0,
       "model_id": "53ba6ee240284ba7b05ac803f6283f8a"
      }
     },
     "metadata": {},
     "output_type": "display_data"
    },
    {
     "data": {
      "text/plain": [
       "Validation: |          | 0/? [00:00<?, ?it/s]"
      ],
      "application/vnd.jupyter.widget-view+json": {
       "version_major": 2,
       "version_minor": 0,
       "model_id": "c40fcf6dc0584baa8b37323010ae84e2"
      }
     },
     "metadata": {},
     "output_type": "display_data"
    },
    {
     "data": {
      "text/plain": [
       "Validation: |          | 0/? [00:00<?, ?it/s]"
      ],
      "application/vnd.jupyter.widget-view+json": {
       "version_major": 2,
       "version_minor": 0,
       "model_id": "175be1a9c5c643f6816d18459253c1ed"
      }
     },
     "metadata": {},
     "output_type": "display_data"
    },
    {
     "data": {
      "text/plain": [
       "Validation: |          | 0/? [00:00<?, ?it/s]"
      ],
      "application/vnd.jupyter.widget-view+json": {
       "version_major": 2,
       "version_minor": 0,
       "model_id": "7b10ef49dca540b085391c24f737bab3"
      }
     },
     "metadata": {},
     "output_type": "display_data"
    },
    {
     "data": {
      "text/plain": [
       "Validation: |          | 0/? [00:00<?, ?it/s]"
      ],
      "application/vnd.jupyter.widget-view+json": {
       "version_major": 2,
       "version_minor": 0,
       "model_id": "56afab3cbedd414c8516ee8e7f1fe448"
      }
     },
     "metadata": {},
     "output_type": "display_data"
    },
    {
     "data": {
      "text/plain": [
       "Validation: |          | 0/? [00:00<?, ?it/s]"
      ],
      "application/vnd.jupyter.widget-view+json": {
       "version_major": 2,
       "version_minor": 0,
       "model_id": "b8eae96dd2434e36b49ae09e9755463d"
      }
     },
     "metadata": {},
     "output_type": "display_data"
    },
    {
     "name": "stdout",
     "output_type": "stream",
     "text": [
      "[Fold 1] AUC: 0.73353\n"
     ]
    },
    {
     "name": "stderr",
     "output_type": "stream",
     "text": [
      "Seed set to 333\n",
      "GPU available: True (cuda), used: True\n",
      "TPU available: False, using: 0 TPU cores\n",
      "HPU available: False, using: 0 HPUs\n",
      "LOCAL_RANK: 0 - CUDA_VISIBLE_DEVICES: [0]\n"
     ]
    },
    {
     "data": {
      "text/plain": [
       "Finding best initial lr:   0%|          | 0/100 [00:00<?, ?it/s]"
      ],
      "application/vnd.jupyter.widget-view+json": {
       "version_major": 2,
       "version_minor": 0,
       "model_id": "f178be983d0a4fd3add2a8e8bd05d80a"
      }
     },
     "metadata": {},
     "output_type": "display_data"
    },
    {
     "name": "stderr",
     "output_type": "stream",
     "text": [
      "`Trainer.fit` stopped: `max_steps=100` reached.\n",
      "Learning rate set to 0.0009120108393559097\n",
      "Restoring states from the checkpoint path at C:\\Users\\eunhak\\workspace\\LG_Aimers_6th\\Eunhak\\.lr_find_b43bcabd-b53f-482b-ac9d-e5eac6046736.ckpt\n",
      "Restored all states from the checkpoint at C:\\Users\\eunhak\\workspace\\LG_Aimers_6th\\Eunhak\\.lr_find_b43bcabd-b53f-482b-ac9d-e5eac6046736.ckpt\n",
      "LOCAL_RANK: 0 - CUDA_VISIBLE_DEVICES: [0]\n",
      "\n",
      "  | Name             | Type             | Params | Mode \n",
      "--------------------------------------------------------------\n",
      "0 | _backbone        | GANDALFBackbone  | 256 K  | train\n",
      "1 | _embedding_layer | Embedding1dLayer | 307    | train\n",
      "2 | _head            | Sequential       | 172    | train\n",
      "3 | loss             | CrossEntropyLoss | 0      | train\n",
      "--------------------------------------------------------------\n",
      "256 K     Trainable params\n",
      "0         Non-trainable params\n",
      "256 K     Total params\n",
      "1.026     Total estimated model params size (MB)\n",
      "35        Modules in train mode\n",
      "0         Modules in eval mode\n"
     ]
    },
    {
     "data": {
      "text/plain": [
       "Sanity Checking: |          | 0/? [00:00<?, ?it/s]"
      ],
      "application/vnd.jupyter.widget-view+json": {
       "version_major": 2,
       "version_minor": 0,
       "model_id": "6fb287bb6ec64397b0ac21f98628e9f7"
      }
     },
     "metadata": {},
     "output_type": "display_data"
    },
    {
     "data": {
      "text/plain": [
       "Training: |          | 0/? [00:00<?, ?it/s]"
      ],
      "application/vnd.jupyter.widget-view+json": {
       "version_major": 2,
       "version_minor": 0,
       "model_id": "dcf6a1e80c3d480d97ac85615579c6cd"
      }
     },
     "metadata": {},
     "output_type": "display_data"
    },
    {
     "data": {
      "text/plain": [
       "Validation: |          | 0/? [00:00<?, ?it/s]"
      ],
      "application/vnd.jupyter.widget-view+json": {
       "version_major": 2,
       "version_minor": 0,
       "model_id": "5cd6c112e4484c3ca26bb4b420c6b6a6"
      }
     },
     "metadata": {},
     "output_type": "display_data"
    },
    {
     "data": {
      "text/plain": [
       "Validation: |          | 0/? [00:00<?, ?it/s]"
      ],
      "application/vnd.jupyter.widget-view+json": {
       "version_major": 2,
       "version_minor": 0,
       "model_id": "e22553bc33be4b1d94262ec0cce0508f"
      }
     },
     "metadata": {},
     "output_type": "display_data"
    },
    {
     "data": {
      "text/plain": [
       "Validation: |          | 0/? [00:00<?, ?it/s]"
      ],
      "application/vnd.jupyter.widget-view+json": {
       "version_major": 2,
       "version_minor": 0,
       "model_id": "949a11dcaf7142358aef6f5c6a996b41"
      }
     },
     "metadata": {},
     "output_type": "display_data"
    },
    {
     "data": {
      "text/plain": [
       "Validation: |          | 0/? [00:00<?, ?it/s]"
      ],
      "application/vnd.jupyter.widget-view+json": {
       "version_major": 2,
       "version_minor": 0,
       "model_id": "e0d07f4543c842e18efbf09084f4aba8"
      }
     },
     "metadata": {},
     "output_type": "display_data"
    },
    {
     "data": {
      "text/plain": [
       "Validation: |          | 0/? [00:00<?, ?it/s]"
      ],
      "application/vnd.jupyter.widget-view+json": {
       "version_major": 2,
       "version_minor": 0,
       "model_id": "c823e0b19a67438aa980a4142553cf2f"
      }
     },
     "metadata": {},
     "output_type": "display_data"
    },
    {
     "data": {
      "text/plain": [
       "Validation: |          | 0/? [00:00<?, ?it/s]"
      ],
      "application/vnd.jupyter.widget-view+json": {
       "version_major": 2,
       "version_minor": 0,
       "model_id": "05c119755ecc4b4fbcfe964721db5b2b"
      }
     },
     "metadata": {},
     "output_type": "display_data"
    },
    {
     "data": {
      "text/plain": [
       "Validation: |          | 0/? [00:00<?, ?it/s]"
      ],
      "application/vnd.jupyter.widget-view+json": {
       "version_major": 2,
       "version_minor": 0,
       "model_id": "2179c1ded99b4fe48fc62c597d2f659d"
      }
     },
     "metadata": {},
     "output_type": "display_data"
    },
    {
     "data": {
      "text/plain": [
       "Validation: |          | 0/? [00:00<?, ?it/s]"
      ],
      "application/vnd.jupyter.widget-view+json": {
       "version_major": 2,
       "version_minor": 0,
       "model_id": "7427c9e7b29d48e0bcafa86561d695a9"
      }
     },
     "metadata": {},
     "output_type": "display_data"
    },
    {
     "data": {
      "text/plain": [
       "Validation: |          | 0/? [00:00<?, ?it/s]"
      ],
      "application/vnd.jupyter.widget-view+json": {
       "version_major": 2,
       "version_minor": 0,
       "model_id": "f76f8fd3b751474b97820496b8e80c86"
      }
     },
     "metadata": {},
     "output_type": "display_data"
    },
    {
     "name": "stdout",
     "output_type": "stream",
     "text": [
      "[Fold 2] AUC: 0.73652\n"
     ]
    },
    {
     "name": "stderr",
     "output_type": "stream",
     "text": [
      "Seed set to 333\n",
      "GPU available: True (cuda), used: True\n",
      "TPU available: False, using: 0 TPU cores\n",
      "HPU available: False, using: 0 HPUs\n",
      "LOCAL_RANK: 0 - CUDA_VISIBLE_DEVICES: [0]\n"
     ]
    },
    {
     "data": {
      "text/plain": [
       "Finding best initial lr:   0%|          | 0/100 [00:00<?, ?it/s]"
      ],
      "application/vnd.jupyter.widget-view+json": {
       "version_major": 2,
       "version_minor": 0,
       "model_id": "4ca06a91edd54739b35596939b961031"
      }
     },
     "metadata": {},
     "output_type": "display_data"
    },
    {
     "name": "stderr",
     "output_type": "stream",
     "text": [
      "`Trainer.fit` stopped: `max_steps=100` reached.\n",
      "Learning rate set to 0.0010964781961431851\n",
      "Restoring states from the checkpoint path at C:\\Users\\eunhak\\workspace\\LG_Aimers_6th\\Eunhak\\.lr_find_61c8cd17-1534-4dfb-a45e-e4ac87f4118a.ckpt\n",
      "Restored all states from the checkpoint at C:\\Users\\eunhak\\workspace\\LG_Aimers_6th\\Eunhak\\.lr_find_61c8cd17-1534-4dfb-a45e-e4ac87f4118a.ckpt\n",
      "LOCAL_RANK: 0 - CUDA_VISIBLE_DEVICES: [0]\n",
      "\n",
      "  | Name             | Type             | Params | Mode \n",
      "--------------------------------------------------------------\n",
      "0 | _backbone        | GANDALFBackbone  | 256 K  | train\n",
      "1 | _embedding_layer | Embedding1dLayer | 307    | train\n",
      "2 | _head            | Sequential       | 172    | train\n",
      "3 | loss             | CrossEntropyLoss | 0      | train\n",
      "--------------------------------------------------------------\n",
      "256 K     Trainable params\n",
      "0         Non-trainable params\n",
      "256 K     Total params\n",
      "1.026     Total estimated model params size (MB)\n",
      "35        Modules in train mode\n",
      "0         Modules in eval mode\n"
     ]
    },
    {
     "data": {
      "text/plain": [
       "Sanity Checking: |          | 0/? [00:00<?, ?it/s]"
      ],
      "application/vnd.jupyter.widget-view+json": {
       "version_major": 2,
       "version_minor": 0,
       "model_id": "4f5a5827752c4838a5995772dfb6ff08"
      }
     },
     "metadata": {},
     "output_type": "display_data"
    },
    {
     "data": {
      "text/plain": [
       "Training: |          | 0/? [00:00<?, ?it/s]"
      ],
      "application/vnd.jupyter.widget-view+json": {
       "version_major": 2,
       "version_minor": 0,
       "model_id": "f701847fb17d41b39b2495cf0dc43bde"
      }
     },
     "metadata": {},
     "output_type": "display_data"
    },
    {
     "data": {
      "text/plain": [
       "Validation: |          | 0/? [00:00<?, ?it/s]"
      ],
      "application/vnd.jupyter.widget-view+json": {
       "version_major": 2,
       "version_minor": 0,
       "model_id": "cb81ad22c7854cd594056980b26b00ae"
      }
     },
     "metadata": {},
     "output_type": "display_data"
    },
    {
     "data": {
      "text/plain": [
       "Validation: |          | 0/? [00:00<?, ?it/s]"
      ],
      "application/vnd.jupyter.widget-view+json": {
       "version_major": 2,
       "version_minor": 0,
       "model_id": "b5fd02f0b5794a74b06b9719f28bf76e"
      }
     },
     "metadata": {},
     "output_type": "display_data"
    },
    {
     "data": {
      "text/plain": [
       "Validation: |          | 0/? [00:00<?, ?it/s]"
      ],
      "application/vnd.jupyter.widget-view+json": {
       "version_major": 2,
       "version_minor": 0,
       "model_id": "7f7c9894ee4f4437b36a0de3f997176d"
      }
     },
     "metadata": {},
     "output_type": "display_data"
    },
    {
     "data": {
      "text/plain": [
       "Validation: |          | 0/? [00:00<?, ?it/s]"
      ],
      "application/vnd.jupyter.widget-view+json": {
       "version_major": 2,
       "version_minor": 0,
       "model_id": "cc053035f1fe4d21b5f0cd7298ca82d1"
      }
     },
     "metadata": {},
     "output_type": "display_data"
    },
    {
     "data": {
      "text/plain": [
       "Validation: |          | 0/? [00:00<?, ?it/s]"
      ],
      "application/vnd.jupyter.widget-view+json": {
       "version_major": 2,
       "version_minor": 0,
       "model_id": "f41baeaff78b4a35bbcabc7442b2dbd7"
      }
     },
     "metadata": {},
     "output_type": "display_data"
    },
    {
     "data": {
      "text/plain": [
       "Validation: |          | 0/? [00:00<?, ?it/s]"
      ],
      "application/vnd.jupyter.widget-view+json": {
       "version_major": 2,
       "version_minor": 0,
       "model_id": "067f168990064fae96a29a46439b41e4"
      }
     },
     "metadata": {},
     "output_type": "display_data"
    },
    {
     "data": {
      "text/plain": [
       "Validation: |          | 0/? [00:00<?, ?it/s]"
      ],
      "application/vnd.jupyter.widget-view+json": {
       "version_major": 2,
       "version_minor": 0,
       "model_id": "eece130ee653469f92356a621d03500a"
      }
     },
     "metadata": {},
     "output_type": "display_data"
    },
    {
     "data": {
      "text/plain": [
       "Validation: |          | 0/? [00:00<?, ?it/s]"
      ],
      "application/vnd.jupyter.widget-view+json": {
       "version_major": 2,
       "version_minor": 0,
       "model_id": "2883cea64f8443519c00b701fd65c1c5"
      }
     },
     "metadata": {},
     "output_type": "display_data"
    },
    {
     "data": {
      "text/plain": [
       "Validation: |          | 0/? [00:00<?, ?it/s]"
      ],
      "application/vnd.jupyter.widget-view+json": {
       "version_major": 2,
       "version_minor": 0,
       "model_id": "3338337b163d43919cf01f50d1d3bbff"
      }
     },
     "metadata": {},
     "output_type": "display_data"
    },
    {
     "data": {
      "text/plain": [
       "Validation: |          | 0/? [00:00<?, ?it/s]"
      ],
      "application/vnd.jupyter.widget-view+json": {
       "version_major": 2,
       "version_minor": 0,
       "model_id": "dc5275990dc64b6791397157fc1f409f"
      }
     },
     "metadata": {},
     "output_type": "display_data"
    },
    {
     "name": "stdout",
     "output_type": "stream",
     "text": [
      "[Fold 3] AUC: 0.73295\n"
     ]
    },
    {
     "name": "stderr",
     "output_type": "stream",
     "text": [
      "Seed set to 333\n",
      "GPU available: True (cuda), used: True\n",
      "TPU available: False, using: 0 TPU cores\n",
      "HPU available: False, using: 0 HPUs\n",
      "LOCAL_RANK: 0 - CUDA_VISIBLE_DEVICES: [0]\n"
     ]
    },
    {
     "data": {
      "text/plain": [
       "Finding best initial lr:   0%|          | 0/100 [00:00<?, ?it/s]"
      ],
      "application/vnd.jupyter.widget-view+json": {
       "version_major": 2,
       "version_minor": 0,
       "model_id": "3bab069f6cb44899beeb3d1fa751242f"
      }
     },
     "metadata": {},
     "output_type": "display_data"
    },
    {
     "name": "stderr",
     "output_type": "stream",
     "text": [
      "`Trainer.fit` stopped: `max_steps=100` reached.\n",
      "Learning rate set to 0.0009120108393559097\n",
      "Restoring states from the checkpoint path at C:\\Users\\eunhak\\workspace\\LG_Aimers_6th\\Eunhak\\.lr_find_61be7170-bc03-4879-9dc9-67e89120fc8c.ckpt\n",
      "Restored all states from the checkpoint at C:\\Users\\eunhak\\workspace\\LG_Aimers_6th\\Eunhak\\.lr_find_61be7170-bc03-4879-9dc9-67e89120fc8c.ckpt\n",
      "LOCAL_RANK: 0 - CUDA_VISIBLE_DEVICES: [0]\n",
      "\n",
      "  | Name             | Type             | Params | Mode \n",
      "--------------------------------------------------------------\n",
      "0 | _backbone        | GANDALFBackbone  | 256 K  | train\n",
      "1 | _embedding_layer | Embedding1dLayer | 307    | train\n",
      "2 | _head            | Sequential       | 172    | train\n",
      "3 | loss             | CrossEntropyLoss | 0      | train\n",
      "--------------------------------------------------------------\n",
      "256 K     Trainable params\n",
      "0         Non-trainable params\n",
      "256 K     Total params\n",
      "1.026     Total estimated model params size (MB)\n",
      "35        Modules in train mode\n",
      "0         Modules in eval mode\n"
     ]
    },
    {
     "data": {
      "text/plain": [
       "Sanity Checking: |          | 0/? [00:00<?, ?it/s]"
      ],
      "application/vnd.jupyter.widget-view+json": {
       "version_major": 2,
       "version_minor": 0,
       "model_id": "10fdfb136afb4c8fb48ced8c327355dc"
      }
     },
     "metadata": {},
     "output_type": "display_data"
    },
    {
     "data": {
      "text/plain": [
       "Training: |          | 0/? [00:00<?, ?it/s]"
      ],
      "application/vnd.jupyter.widget-view+json": {
       "version_major": 2,
       "version_minor": 0,
       "model_id": "5848fbfadaa2464082423b04c9a43d18"
      }
     },
     "metadata": {},
     "output_type": "display_data"
    },
    {
     "data": {
      "text/plain": [
       "Validation: |          | 0/? [00:00<?, ?it/s]"
      ],
      "application/vnd.jupyter.widget-view+json": {
       "version_major": 2,
       "version_minor": 0,
       "model_id": "d65e0e1af92d4c9dbba9377336ef61a2"
      }
     },
     "metadata": {},
     "output_type": "display_data"
    },
    {
     "data": {
      "text/plain": [
       "Validation: |          | 0/? [00:00<?, ?it/s]"
      ],
      "application/vnd.jupyter.widget-view+json": {
       "version_major": 2,
       "version_minor": 0,
       "model_id": "8570b639858c474184e211711db5901b"
      }
     },
     "metadata": {},
     "output_type": "display_data"
    },
    {
     "data": {
      "text/plain": [
       "Validation: |          | 0/? [00:00<?, ?it/s]"
      ],
      "application/vnd.jupyter.widget-view+json": {
       "version_major": 2,
       "version_minor": 0,
       "model_id": "48262c70f49a4133b4c1c118fb19bddc"
      }
     },
     "metadata": {},
     "output_type": "display_data"
    },
    {
     "data": {
      "text/plain": [
       "Validation: |          | 0/? [00:00<?, ?it/s]"
      ],
      "application/vnd.jupyter.widget-view+json": {
       "version_major": 2,
       "version_minor": 0,
       "model_id": "4db093c40d31443c839446ec40dd19b0"
      }
     },
     "metadata": {},
     "output_type": "display_data"
    },
    {
     "data": {
      "text/plain": [
       "Validation: |          | 0/? [00:00<?, ?it/s]"
      ],
      "application/vnd.jupyter.widget-view+json": {
       "version_major": 2,
       "version_minor": 0,
       "model_id": "50517142360e4389a2577ad30557bc71"
      }
     },
     "metadata": {},
     "output_type": "display_data"
    },
    {
     "data": {
      "text/plain": [
       "Validation: |          | 0/? [00:00<?, ?it/s]"
      ],
      "application/vnd.jupyter.widget-view+json": {
       "version_major": 2,
       "version_minor": 0,
       "model_id": "c336936af4e1425f8711d197a47c1509"
      }
     },
     "metadata": {},
     "output_type": "display_data"
    },
    {
     "data": {
      "text/plain": [
       "Validation: |          | 0/? [00:00<?, ?it/s]"
      ],
      "application/vnd.jupyter.widget-view+json": {
       "version_major": 2,
       "version_minor": 0,
       "model_id": "4635fdfbc987417d9c3ac6831ce98d9f"
      }
     },
     "metadata": {},
     "output_type": "display_data"
    },
    {
     "data": {
      "text/plain": [
       "Validation: |          | 0/? [00:00<?, ?it/s]"
      ],
      "application/vnd.jupyter.widget-view+json": {
       "version_major": 2,
       "version_minor": 0,
       "model_id": "9b5ad772f48f4f83a4e4827df0a09939"
      }
     },
     "metadata": {},
     "output_type": "display_data"
    },
    {
     "data": {
      "text/plain": [
       "Validation: |          | 0/? [00:00<?, ?it/s]"
      ],
      "application/vnd.jupyter.widget-view+json": {
       "version_major": 2,
       "version_minor": 0,
       "model_id": "748d71cc4ea94a258312ffe7e3151e2a"
      }
     },
     "metadata": {},
     "output_type": "display_data"
    },
    {
     "data": {
      "text/plain": [
       "Validation: |          | 0/? [00:00<?, ?it/s]"
      ],
      "application/vnd.jupyter.widget-view+json": {
       "version_major": 2,
       "version_minor": 0,
       "model_id": "38f23cec512d472ebb54a2a092cfcc5e"
      }
     },
     "metadata": {},
     "output_type": "display_data"
    },
    {
     "data": {
      "text/plain": [
       "Validation: |          | 0/? [00:00<?, ?it/s]"
      ],
      "application/vnd.jupyter.widget-view+json": {
       "version_major": 2,
       "version_minor": 0,
       "model_id": "bf73b1d6f5a140c48bf077f4b791f0eb"
      }
     },
     "metadata": {},
     "output_type": "display_data"
    },
    {
     "name": "stdout",
     "output_type": "stream",
     "text": [
      "[Fold 4] AUC: 0.73247\n"
     ]
    },
    {
     "name": "stderr",
     "output_type": "stream",
     "text": [
      "Seed set to 333\n",
      "GPU available: True (cuda), used: True\n",
      "TPU available: False, using: 0 TPU cores\n",
      "HPU available: False, using: 0 HPUs\n",
      "LOCAL_RANK: 0 - CUDA_VISIBLE_DEVICES: [0]\n"
     ]
    },
    {
     "data": {
      "text/plain": [
       "Finding best initial lr:   0%|          | 0/100 [00:00<?, ?it/s]"
      ],
      "application/vnd.jupyter.widget-view+json": {
       "version_major": 2,
       "version_minor": 0,
       "model_id": "b8769e9bdf0747c491168ef83754a17e"
      }
     },
     "metadata": {},
     "output_type": "display_data"
    },
    {
     "name": "stderr",
     "output_type": "stream",
     "text": [
      "`Trainer.fit` stopped: `max_steps=100` reached.\n",
      "Learning rate set to 0.0010964781961431851\n",
      "Restoring states from the checkpoint path at C:\\Users\\eunhak\\workspace\\LG_Aimers_6th\\Eunhak\\.lr_find_7824a4f0-6d7e-42a2-a131-035887f9cc6f.ckpt\n",
      "Restored all states from the checkpoint at C:\\Users\\eunhak\\workspace\\LG_Aimers_6th\\Eunhak\\.lr_find_7824a4f0-6d7e-42a2-a131-035887f9cc6f.ckpt\n",
      "LOCAL_RANK: 0 - CUDA_VISIBLE_DEVICES: [0]\n",
      "\n",
      "  | Name             | Type             | Params | Mode \n",
      "--------------------------------------------------------------\n",
      "0 | _backbone        | GANDALFBackbone  | 256 K  | train\n",
      "1 | _embedding_layer | Embedding1dLayer | 307    | train\n",
      "2 | _head            | Sequential       | 172    | train\n",
      "3 | loss             | CrossEntropyLoss | 0      | train\n",
      "--------------------------------------------------------------\n",
      "256 K     Trainable params\n",
      "0         Non-trainable params\n",
      "256 K     Total params\n",
      "1.026     Total estimated model params size (MB)\n",
      "35        Modules in train mode\n",
      "0         Modules in eval mode\n"
     ]
    },
    {
     "data": {
      "text/plain": [
       "Sanity Checking: |          | 0/? [00:00<?, ?it/s]"
      ],
      "application/vnd.jupyter.widget-view+json": {
       "version_major": 2,
       "version_minor": 0,
       "model_id": "7d449fbe6da34a61b033bbbd236cc5c0"
      }
     },
     "metadata": {},
     "output_type": "display_data"
    },
    {
     "data": {
      "text/plain": [
       "Training: |          | 0/? [00:00<?, ?it/s]"
      ],
      "application/vnd.jupyter.widget-view+json": {
       "version_major": 2,
       "version_minor": 0,
       "model_id": "4737a136104f41729cfe7acbc2f82ae4"
      }
     },
     "metadata": {},
     "output_type": "display_data"
    },
    {
     "data": {
      "text/plain": [
       "Validation: |          | 0/? [00:00<?, ?it/s]"
      ],
      "application/vnd.jupyter.widget-view+json": {
       "version_major": 2,
       "version_minor": 0,
       "model_id": "1d03feb6560347a1bf67630d5f1b9ce4"
      }
     },
     "metadata": {},
     "output_type": "display_data"
    },
    {
     "data": {
      "text/plain": [
       "Validation: |          | 0/? [00:00<?, ?it/s]"
      ],
      "application/vnd.jupyter.widget-view+json": {
       "version_major": 2,
       "version_minor": 0,
       "model_id": "91c1ba2d0f4548bd9ee1177fb1de22c4"
      }
     },
     "metadata": {},
     "output_type": "display_data"
    },
    {
     "data": {
      "text/plain": [
       "Validation: |          | 0/? [00:00<?, ?it/s]"
      ],
      "application/vnd.jupyter.widget-view+json": {
       "version_major": 2,
       "version_minor": 0,
       "model_id": "7138d160b2e8495ab66ed639f8574555"
      }
     },
     "metadata": {},
     "output_type": "display_data"
    },
    {
     "data": {
      "text/plain": [
       "Validation: |          | 0/? [00:00<?, ?it/s]"
      ],
      "application/vnd.jupyter.widget-view+json": {
       "version_major": 2,
       "version_minor": 0,
       "model_id": "bb9b6398056c48ca9d0e03fcd4ff81f4"
      }
     },
     "metadata": {},
     "output_type": "display_data"
    },
    {
     "data": {
      "text/plain": [
       "Validation: |          | 0/? [00:00<?, ?it/s]"
      ],
      "application/vnd.jupyter.widget-view+json": {
       "version_major": 2,
       "version_minor": 0,
       "model_id": "ea71ff17155d444aac7f7f8ee4c7f3e0"
      }
     },
     "metadata": {},
     "output_type": "display_data"
    },
    {
     "data": {
      "text/plain": [
       "Validation: |          | 0/? [00:00<?, ?it/s]"
      ],
      "application/vnd.jupyter.widget-view+json": {
       "version_major": 2,
       "version_minor": 0,
       "model_id": "3e059f3e4c89418ba677667f68d27ba3"
      }
     },
     "metadata": {},
     "output_type": "display_data"
    },
    {
     "name": "stdout",
     "output_type": "stream",
     "text": [
      "[Fold 5] AUC: 0.73458\n",
      "Seed 333 - Average AUC: 0.73401 (STD: 0.00144)\n",
      "============================================================\n",
      "------------------------------------------------------------\n",
      "Total Average AUC: 0.734012 (STD: 0.000000)\n"
     ]
    }
   ],
   "execution_count": 6
  },
  {
   "metadata": {
    "ExecuteTime": {
     "end_time": "2025-03-30T10:19:27.590441Z",
     "start_time": "2025-03-30T10:19:27.575441Z"
    }
   },
   "cell_type": "code",
   "source": [
    "old_auc = 0.744533 * 100\n",
    "old_std = 0.001171 * 100\n",
    "\n",
    "new_auc = total_auc_mean * 100\n",
    "new_std = total_auc_std * 100\n",
    "\n",
    "def calculate_change(old_value, new_value):\n",
    "    change = new_value - old_value\n",
    "    percentage_change = (change / old_value) * 100 if old_value != 0 else float('inf')\n",
    "    return change, percentage_change\n",
    "\n",
    "def format_change(change):\n",
    "    return f\"{change:+.6f}\"\n",
    "\n",
    "# 각 지표의 변화량 계산\n",
    "auc_change, auc_pct = calculate_change(old_auc, new_auc)\n",
    "std_change, std_pct = calculate_change(old_std, new_std)\n",
    "\n",
    "# 결과 출력\n",
    "print(\"\\n========== 모델 성능 변화 ==========\")\n",
    "print(f\"{'Metric':<8}  {'AUC':>12}  {'Acc':>12}\")\n",
    "print(\"-\" * 36)\n",
    "print(f\"{'Old':<8}  {old_auc:>12.6f}  {old_std:>12.6f}\")\n",
    "print(f\"{'New':<8}  {new_auc:>12.6f}  {new_std:>12.6f}\")\n",
    "print(f\"{'Change':<8}  {format_change(auc_change):>12}  {format_change(std_change):>12}\")\n",
    "print(f\"{'% Change':<8}  {auc_pct:>11.4f}%  {std_pct:>11.4f}%\")\n",
    "print(\"=\" * 36)"
   ],
   "id": "8b4578cc3b830682",
   "outputs": [
    {
     "name": "stdout",
     "output_type": "stream",
     "text": [
      "\n",
      "========== 모델 성능 변화 ==========\n",
      "Metric             AUC           Acc\n",
      "------------------------------------\n",
      "Old          74.453300      0.117100\n",
      "New          73.401160      0.000000\n",
      "Change       -1.052140     -0.117100\n",
      "% Change      -1.4132%    -100.0000%\n",
      "====================================\n"
     ]
    }
   ],
   "execution_count": 7
  },
  {
   "metadata": {
    "ExecuteTime": {
     "end_time": "2025-03-30T10:19:27.730952Z",
     "start_time": "2025-03-30T10:19:27.716953Z"
    }
   },
   "cell_type": "code",
   "source": [
    "tmp_submission = pd.DataFrame({f'gandalf_{data_seed}': np.mean(test_preds, axis=0)})\n",
    "tmp_submission"
   ],
   "id": "a64672a7154d813d",
   "outputs": [
    {
     "data": {
      "text/plain": [
       "       gandalf_7\n",
       "0       0.380250\n",
       "1       0.232263\n",
       "2       0.369434\n",
       "3       0.010583\n",
       "4       0.000806\n",
       "...          ...\n",
       "51266   0.472226\n",
       "51267   0.414249\n",
       "51268   0.001705\n",
       "51269   0.572522\n",
       "51270   0.422653\n",
       "\n",
       "[51271 rows x 1 columns]"
      ],
      "text/html": [
       "<div>\n",
       "<style scoped>\n",
       "    .dataframe tbody tr th:only-of-type {\n",
       "        vertical-align: middle;\n",
       "    }\n",
       "\n",
       "    .dataframe tbody tr th {\n",
       "        vertical-align: top;\n",
       "    }\n",
       "\n",
       "    .dataframe thead th {\n",
       "        text-align: right;\n",
       "    }\n",
       "</style>\n",
       "<table border=\"1\" class=\"dataframe\">\n",
       "  <thead>\n",
       "    <tr style=\"text-align: right;\">\n",
       "      <th></th>\n",
       "      <th>gandalf_7</th>\n",
       "    </tr>\n",
       "  </thead>\n",
       "  <tbody>\n",
       "    <tr>\n",
       "      <th>0</th>\n",
       "      <td>0.380250</td>\n",
       "    </tr>\n",
       "    <tr>\n",
       "      <th>1</th>\n",
       "      <td>0.232263</td>\n",
       "    </tr>\n",
       "    <tr>\n",
       "      <th>2</th>\n",
       "      <td>0.369434</td>\n",
       "    </tr>\n",
       "    <tr>\n",
       "      <th>3</th>\n",
       "      <td>0.010583</td>\n",
       "    </tr>\n",
       "    <tr>\n",
       "      <th>4</th>\n",
       "      <td>0.000806</td>\n",
       "    </tr>\n",
       "    <tr>\n",
       "      <th>...</th>\n",
       "      <td>...</td>\n",
       "    </tr>\n",
       "    <tr>\n",
       "      <th>51266</th>\n",
       "      <td>0.472226</td>\n",
       "    </tr>\n",
       "    <tr>\n",
       "      <th>51267</th>\n",
       "      <td>0.414249</td>\n",
       "    </tr>\n",
       "    <tr>\n",
       "      <th>51268</th>\n",
       "      <td>0.001705</td>\n",
       "    </tr>\n",
       "    <tr>\n",
       "      <th>51269</th>\n",
       "      <td>0.572522</td>\n",
       "    </tr>\n",
       "    <tr>\n",
       "      <th>51270</th>\n",
       "      <td>0.422653</td>\n",
       "    </tr>\n",
       "  </tbody>\n",
       "</table>\n",
       "<p>51271 rows × 1 columns</p>\n",
       "</div>"
      ]
     },
     "execution_count": 8,
     "metadata": {},
     "output_type": "execute_result"
    }
   ],
   "execution_count": 8
  },
  {
   "metadata": {
    "ExecuteTime": {
     "end_time": "2025-03-30T10:19:28.992440Z",
     "start_time": "2025-03-30T10:19:27.783463Z"
    }
   },
   "cell_type": "code",
   "source": [
    "from LG_Aimers_6th.cal_auc import calculate_auc\n",
    "\n",
    "score = calculate_auc(tmp_submission, seed=data_seed)\n",
    "print(f'[seed {data_seed}]: {score}')"
   ],
   "id": "189382d5401e8bc5",
   "outputs": [
    {
     "name": "stdout",
     "output_type": "stream",
     "text": [
      "[seed 7]: 0.7396985888734923\n"
     ]
    }
   ],
   "execution_count": 9
  },
  {
   "metadata": {
    "ExecuteTime": {
     "end_time": "2025-03-30T10:19:29.038440Z",
     "start_time": "2025-03-30T10:19:29.023441Z"
    }
   },
   "cell_type": "code",
   "source": "",
   "id": "d6609cc106f5a9f9",
   "outputs": [],
   "execution_count": null
  }
 ],
 "metadata": {
  "kernelspec": {
   "display_name": "Python 3 (ipykernel)",
   "language": "python",
   "name": "python3"
  },
  "language_info": {
   "codemirror_mode": {
    "name": "ipython",
    "version": 3
   },
   "file_extension": ".py",
   "mimetype": "text/x-python",
   "name": "python",
   "nbconvert_exporter": "python",
   "pygments_lexer": "ipython3",
   "version": "3.8.18"
  }
 },
 "nbformat": 4,
 "nbformat_minor": 5
}
