{
 "cells": [
  {
   "cell_type": "code",
   "id": "b0919eeb-bbb3-48d4-ae3f-3dac6b370d95",
   "metadata": {
    "ExecuteTime": {
     "end_time": "2025-04-03T14:18:50.906395Z",
     "start_time": "2025-04-03T14:18:48.750603Z"
    }
   },
   "source": [
    "import pandas as pd\n",
    "import numpy as np\n",
    "import random\n",
    "import math\n",
    "\n",
    "from sklearn.model_selection import StratifiedKFold\n",
    "from sklearn.metrics import roc_auc_score\n",
    "\n",
    "import scipy\n",
    "import torch\n",
    "import torch.nn as nn\n",
    "import torch.optim as optim\n",
    "import torch.nn.functional as F\n",
    "from torch import Tensor\n",
    "from tabm_reference import Model, make_parameter_groups\n",
    "import rtdl_num_embeddings\n",
    "from tqdm import tqdm\n",
    "\n",
    "import warnings\n",
    "warnings.filterwarnings(action='ignore')\n",
    "\n",
    "from LG_Aimers_6th.cal_auc import calculate_auc\n",
    "\n",
    "device = torch.device(\"cuda\" if torch.cuda.is_available() else \"cpu\")\n",
    "device = \"cpu\"\n",
    "print(device)"
   ],
   "outputs": [
    {
     "name": "stdout",
     "output_type": "stream",
     "text": [
      "cpu\n"
     ]
    }
   ],
   "execution_count": 1
  },
  {
   "cell_type": "markdown",
   "id": "cd8b152b-c7a9-40f1-975a-516b764fcadd",
   "metadata": {},
   "source": [
    "## 2. Data Load"
   ]
  },
  {
   "cell_type": "code",
   "id": "feed2e5f-fb44-4ec5-8546-711ee29221cd",
   "metadata": {
    "ExecuteTime": {
     "end_time": "2025-04-03T14:18:51.767467Z",
     "start_time": "2025-04-03T14:18:50.911394Z"
    }
   },
   "source": [
    "data_seed = 7\n",
    "\n",
    "train_path = f'../data/custom_train_{data_seed}.csv'\n",
    "test_path = f'../data/custom_test_{data_seed}.csv'\n",
    "\n",
    "# 학습/평가 데이터 로드\n",
    "train = pd.read_csv(train_path).drop(columns=['ID'])\n",
    "test = pd.read_csv(test_path).drop(columns=['ID'])\n",
    "\n",
    "print(train.shape, test.shape)"
   ],
   "outputs": [
    {
     "name": "stdout",
     "output_type": "stream",
     "text": [
      "(205080, 68) (51271, 67)\n"
     ]
    }
   ],
   "execution_count": 2
  },
  {
   "cell_type": "code",
   "id": "63299de32ba2bec9",
   "metadata": {
    "ExecuteTime": {
     "end_time": "2025-04-03T14:18:56.356415Z",
     "start_time": "2025-04-03T14:18:51.910468Z"
    }
   },
   "source": [
    "from preprocess_DL import all_process\n",
    "\n",
    "train = pd.read_csv(train_path).drop(columns=['ID'])\n",
    "test = pd.read_csv(test_path).drop(columns=['ID'])\n",
    "\n",
    "train, test = all_process(train, test)\n",
    "\n",
    "cat_cols = [col for col in train.columns if pd.api.types.is_categorical_dtype(train[col])]\n",
    "numeric_cols = [col for col in train.columns if col not in cat_cols and col != '임신 성공 여부']\n",
    "\n",
    "print(f'수치형 변수: {len(numeric_cols)}개 \\n{numeric_cols}')\n",
    "print(f'범주형 변수: {len(cat_cols)}개 \\n{cat_cols}')\n",
    "print(train.shape, test.shape)"
   ],
   "outputs": [
    {
     "name": "stdout",
     "output_type": "stream",
     "text": [
      "수치형 변수: 57개 \n",
      "['임신 시도 또는 마지막 임신 경과 연수', '배란 자극 여부', '단일 배아 이식 여부', '착상 전 유전 검사 사용 여부', '착상 전 유전 진단 사용 여부', '남성 주 불임 원인', '남성 부 불임 원인', '여성 주 불임 원인', '여성 부 불임 원인', '부부 주 불임 원인', '부부 부 불임 원인', '불명확 불임 원인', '불임 원인 - 난관 질환', '불임 원인 - 남성 요인', '불임 원인 - 배란 장애', '불임 원인 - 자궁경부 문제', '불임 원인 - 자궁내막증', '불임 원인 - 정자 농도', '불임 원인 - 정자 운동성', '불임 원인 - 정자 형태', '클리닉 내 총 시술 횟수', 'IVF 시술 횟수', 'DI 시술 횟수', '총 임신 횟수', 'IVF 임신 횟수', 'DI 임신 횟수', '총 출산 횟수', 'IVF 출산 횟수', 'DI 출산 횟수', '총 생성 배아 수', '미세주입된 난자 수', '미세주입에서 생성된 배아 수', '이식된 배아 수', '미세주입 배아 이식 수', '저장된 배아 수', '미세주입 후 저장된 배아 수', '해동된 배아 수', '해동 난자 수', '수집된 신선 난자 수', '저장된 신선 난자 수', '혼합된 난자 수', '파트너 정자와 혼합된 난자 수', '기증자 정자와 혼합된 난자 수', '동결 배아 사용 여부', '신선 배아 사용 여부', '기증 배아 사용 여부', '대리모 여부', 'PGD 시술 여부', 'PGS 시술 여부', '난자 혼합 경과일', '배아 이식 경과일', '배아 해동 경과일', '시술_임신', '배아생성이유_기증용', '배아생성이유_난자 저장용', '배아생성이유_배아 저장용', '배아생성이유_현재 시술용']\n",
      "범주형 변수: 8개 \n",
      "['시술 시기 코드', '시술 당시 나이', '배란 유도 유형', '난자 출처', '정자 출처', '난자 기증자 나이', '정자 기증자 나이', '시술유형_통합']\n",
      "(205080, 66) (51271, 65)\n"
     ]
    }
   ],
   "execution_count": 3
  },
  {
   "metadata": {
    "ExecuteTime": {
     "end_time": "2025-04-03T14:18:56.387413Z",
     "start_time": "2025-04-03T14:18:56.372415Z"
    }
   },
   "cell_type": "code",
   "source": [
    "def df_to_tensor(train, val, test=None):\n",
    "    if test is None:\n",
    "        data_numpy = {\n",
    "            'train': {'x_cat': train[cat_cols].values, 'x_cont': train[numeric_cols].values, 'y': train['임신 성공 여부'].values},\n",
    "            'val': {'x_cat': val[cat_cols].values, 'x_cont': val[numeric_cols].values, 'y': val['임신 성공 여부'].values},\n",
    "        }\n",
    "        data = {\n",
    "            part: {k: torch.as_tensor(v, device=device) for k, v in data_numpy[part].items()}\n",
    "            for part in data_numpy\n",
    "        }\n",
    "        data['train']['y'] = data['train']['y'].long()\n",
    "        data['val']['y'] = data['val']['y'].long()\n",
    "        return data\n",
    "    else:\n",
    "        data_numpy = {\n",
    "            'train': {'x_cat': train[cat_cols].values, 'x_cont': train[numeric_cols].values, 'y': train['임신 성공 여부'].values},\n",
    "            'val': {'x_cat': val[cat_cols].values, 'x_cont': val[numeric_cols].values, 'y': val['임신 성공 여부'].values},\n",
    "            'test': {'x_cat': test[cat_cols].values, 'x_cont': test[numeric_cols].values},\n",
    "        }\n",
    "        data = {\n",
    "            part: {k: torch.as_tensor(v, device=device) for k, v in data_numpy[part].items()}\n",
    "            for part in data_numpy\n",
    "        }\n",
    "        data['train']['y'] = data['train']['y'].long()\n",
    "        data['val']['y'] = data['val']['y'].long()\n",
    "        return data\n"
   ],
   "id": "d13a7a24a4939333",
   "outputs": [],
   "execution_count": 4
  },
  {
   "metadata": {
    "ExecuteTime": {
     "end_time": "2025-04-03T14:18:56.527413Z",
     "start_time": "2025-04-03T14:18:56.403415Z"
    }
   },
   "cell_type": "code",
   "source": [
    "def get_feature_info(train):\n",
    "    n_num_features_ = len(numeric_cols)\n",
    "    cat_cardinalities_ = [train[col].nunique() for col in cat_cols]\n",
    "\n",
    "    return n_num_features_, cat_cardinalities_\n",
    "\n",
    "n_num_features, cat_cardinalities = get_feature_info(train)\n",
    "bins = rtdl_num_embeddings.compute_bins(torch.tensor(train[numeric_cols].values))\n",
    "\n",
    "model_config = {\n",
    "    'n_num_features': n_num_features,\n",
    "    'cat_cardinalities': cat_cardinalities,\n",
    "    'n_classes': 2,\n",
    "    'backbone': {\n",
    "        'type': 'MLP',\n",
    "        'n_blocks': 3 if bins is None else 2,\n",
    "        'd_block': 512,\n",
    "        'dropout': 0.1,\n",
    "    },\n",
    "    'bins': bins,\n",
    "    'num_embeddings': (\n",
    "        None if bins is None else {\n",
    "            'type': 'PiecewiseLinearEmbeddings',\n",
    "            'd_embedding': 16,\n",
    "            'activation': False,\n",
    "            'version': 'B',\n",
    "        }\n",
    "    ),\n",
    "    'arch_type': 'tabm-mini',\n",
    "    'k': 32,\n",
    "    'share_training_batches': True,\n",
    "}\n",
    "\n",
    "model = Model(**model_config).to(device)\n",
    "\n",
    "print(n_num_features)\n",
    "print(cat_cardinalities)"
   ],
   "id": "7175bdaadb738a88",
   "outputs": [
    {
     "name": "stdout",
     "output_type": "stream",
     "text": [
      "57\n",
      "[7, 7, 2, 3, 4, 5, 7, 9]\n"
     ]
    }
   ],
   "execution_count": 5
  },
  {
   "metadata": {
    "ExecuteTime": {
     "end_time": "2025-04-03T14:18:57.432068Z",
     "start_time": "2025-04-03T14:18:56.559414Z"
    }
   },
   "cell_type": "code",
   "source": [
    "optimizer = torch.optim.AdamW(make_parameter_groups(model), lr=2e-3, weight_decay=3e-4)\n",
    "\n",
    "# 기본 손실 함수 설정 (여기서는 분류 문제이므로 cross_entropy)\n",
    "base_loss_fn = F.cross_entropy\n",
    "\n",
    "def loss_fn(y_pred, y_true):\n",
    "    # 모델 출력 y_pred.shape: (batch_size, k, n_classes)\n",
    "    k = y_pred.shape[-2]  # k 예측 개수\n",
    "    # 모든 예측에 대해 손실을 계산\n",
    "    return base_loss_fn(\n",
    "        y_pred.flatten(0, 1),\n",
    "        y_true.repeat_interleave(k) if model.share_training_batches else y_true\n",
    "    )\n",
    "\n",
    "def apply_model(part: str, idx: Tensor) -> Tensor:\n",
    "    return (\n",
    "        model(\n",
    "            data[part]['x_cont'][idx],\n",
    "            data[part]['x_cat'][idx] if 'x_cat' in data[part] else None,\n",
    "        )\n",
    "        .squeeze(-1)  # Remove the last dimension for regression tasks.\n",
    "        .float()\n",
    "    )\n",
    "\n",
    "def evaluate(part: str, metric: str = 'auc') -> float:\n",
    "    model.eval()\n",
    "    eval_batch_size = 2048\n",
    "\n",
    "    all_preds = []\n",
    "    all_targets = []\n",
    "    with torch.no_grad():\n",
    "        for idx in torch.arange(len(data[part]['y']), device=device).split(eval_batch_size):\n",
    "            preds = apply_model(part, idx)\n",
    "            all_preds.append(preds)\n",
    "            all_targets.append(data[part]['y'][idx])\n",
    "    # 예측 결과: (N, k, n_classes) -> (N, n_classes) (k개의 예측의 평균)\n",
    "    y_pred = torch.cat(all_preds).cpu().numpy()\n",
    "    y_true = torch.cat(all_targets).cpu().numpy()\n",
    "\n",
    "    # 소프트맥스를 통해 확률로 변환한 뒤 k개 예측에 대해 평균을 냅니다.\n",
    "    y_pred = scipy.special.softmax(y_pred, axis=-1)\n",
    "    y_pred = y_pred.mean(1)  # shape: (N, n_classes)\n",
    "\n",
    "    if metric == 'auc':\n",
    "        auc = roc_auc_score(y_true, y_pred[:, 1])\n",
    "        return float(auc)\n",
    "    elif metric == 'loss':\n",
    "        total_loss = 0.0\n",
    "        total_samples = 0\n",
    "        with torch.no_grad():\n",
    "            for idx in torch.arange(len(data[part]['y']), device=device).split(eval_batch_size):\n",
    "                preds = apply_model(part, idx)\n",
    "                batch_loss = loss_fn(preds, data[part]['y'][idx])\n",
    "                total_loss += batch_loss.item() * idx.size(0)\n",
    "                total_samples += idx.size(0)\n",
    "        return total_loss / total_samples\n",
    "    else:\n",
    "        raise ValueError(f\"Unknown metric: {metric}\")\n",
    "\n",
    "\n",
    "def predict_proba(part: str) -> np.ndarray:\n",
    "    model.eval()\n",
    "    eval_batch_size = 2048\n",
    "    preds = []\n",
    "    with torch.no_grad():\n",
    "        num_samples = len(data[part]['x_cont'])\n",
    "        for idx in torch.arange(num_samples, device=device).split(eval_batch_size):\n",
    "            batch_pred = apply_model(part, idx)\n",
    "            preds.append(batch_pred)\n",
    "\n",
    "    # 모든 배치의 예측값을 하나의 텐서로 합칩니다.\n",
    "    y_pred = torch.cat(preds).cpu().numpy()\n",
    "    y_pred = scipy.special.softmax(y_pred, axis=-1)\n",
    "\n",
    "    return y_pred.mean(1)"
   ],
   "id": "9faa9d3f4b11322c",
   "outputs": [],
   "execution_count": 6
  },
  {
   "metadata": {
    "ExecuteTime": {
     "end_time": "2025-04-03T14:18:57.478072Z",
     "start_time": "2025-04-03T14:18:57.463071Z"
    }
   },
   "cell_type": "code",
   "source": [
    "# 1. 자동 혼합 정밀도(AMP)에서 사용할 데이터 타입(amp_dtype)을 설정합니다.\n",
    "if torch.cuda.is_available():\n",
    "    # CUDA를 사용할 수 있으면, bfloat16 지원 여부를 확인합니다.\n",
    "    if torch.cuda.is_bf16_supported():\n",
    "        amp_dtype = torch.bfloat16  # bfloat16을 지원하면 bfloat16을 사용합니다.\n",
    "    else:\n",
    "        amp_dtype = torch.float16   # bfloat16을 지원하지 않으면 float16을 사용합니다.\n",
    "else:\n",
    "    amp_dtype = None  # CUDA를 사용할 수 없으면 AMP를 사용하지 않습니다.\n",
    "\n",
    "# 2. AMP 기능을 활성화할지 결정합니다.\n",
    "amp_enabled = False and (amp_dtype is not None)\n",
    "\n",
    "# 3. GradScaler는 float16 모드에서 수치 안정성을 위해 사용됩니다.\n",
    "# amp_dtype이 torch.float16일 때만 GradScaler를 생성합니다.\n",
    "if amp_dtype == torch.float16:\n",
    "    grad_scaler = torch.cuda.amp.GradScaler()\n",
    "else:\n",
    "    grad_scaler = None\n",
    "\n",
    "print(grad_scaler)"
   ],
   "id": "8c41e918117cbb35",
   "outputs": [
    {
     "name": "stdout",
     "output_type": "stream",
     "text": [
      "None\n"
     ]
    }
   ],
   "execution_count": 7
  },
  {
   "cell_type": "code",
   "id": "e18ee9209a5acd26",
   "metadata": {
    "jupyter": {
     "is_executing": true
    },
    "ExecuteTime": {
     "start_time": "2025-04-03T14:18:57.510069Z"
    }
   },
   "source": [
    "seed = 333\n",
    "\n",
    "torch.manual_seed(seed)\n",
    "np.random.seed(seed)\n",
    "random.seed(seed)\n",
    "\n",
    "train = pd.read_csv(train_path).drop(columns=['ID'])\n",
    "test = pd.read_csv(test_path).drop(columns=['ID'])\n",
    "\n",
    "test_preds = []\n",
    "val_scores = []\n",
    "\n",
    "skf = StratifiedKFold(n_splits=5, shuffle=True, random_state=seed)\n",
    "for fold, (train_idx, valid_idx) in enumerate(skf.split(train, train['임신 성공 여부'])):\n",
    "    fold_train = train.iloc[train_idx].copy().reset_index(drop=True)\n",
    "    fold_valid = train.iloc[valid_idx].copy().reset_index(drop=True)\n",
    "    fold_train2 = fold_train.copy()\n",
    "    fold_test = test.copy()\n",
    "\n",
    "    fold_train, fold_valid = all_process(fold_train, fold_valid)\n",
    "    _, fold_test = all_process(fold_train2, fold_test)\n",
    "\n",
    "    cat_cols = [col for col in fold_train.columns if pd.api.types.is_categorical_dtype(fold_train[col])]\n",
    "    numeric_cols = [col for col in fold_train.columns if col not in cat_cols and col != '임신 성공 여부']\n",
    "\n",
    "    bins = rtdl_num_embeddings.compute_bins(torch.tensor(fold_train[numeric_cols].values))\n",
    "    n_num_features, cat_cardinalities = get_feature_info(fold_train)\n",
    "\n",
    "    model_config = {\n",
    "        'n_num_features': n_num_features,\n",
    "        'cat_cardinalities': cat_cardinalities,\n",
    "        'n_classes': 2,\n",
    "        'backbone': {\n",
    "            'type': 'MLP',\n",
    "            'n_blocks': 3 if bins is None else 2,\n",
    "            'd_block': 512,\n",
    "            'dropout': 0.1,\n",
    "        },\n",
    "        'bins': bins,\n",
    "        'num_embeddings': (\n",
    "            None if bins is None else {\n",
    "                'type': 'PiecewiseLinearEmbeddings',\n",
    "                'd_embedding': 16,\n",
    "                'activation': False,\n",
    "                'version': 'B',\n",
    "            }\n",
    "        ),\n",
    "        'arch_type': 'tabm-mini',\n",
    "        'k': 32,\n",
    "        'share_training_batches': True,\n",
    "    }\n",
    "    model = Model(**model_config).to(device)\n",
    "    optimizer = torch.optim.AdamW(make_parameter_groups(model), lr=2e-3, weight_decay=3e-4)\n",
    "\n",
    "    data = df_to_tensor(fold_train, fold_valid, fold_test)\n",
    "\n",
    "    n_epochs = 1000000\n",
    "    patience = 16\n",
    "    early_stopping = 'loss'\n",
    "\n",
    "    train_size = len(fold_train)\n",
    "    batch_size = 1024\n",
    "    epoch_size = math.ceil(train_size / batch_size)\n",
    "    if early_stopping == 'loss':\n",
    "        best = {'val': float('inf'), 'test': float('inf'), 'epoch': -1}\n",
    "    else:  # 'auc'인 경우, 값이 높을수록 좋으므로\n",
    "        best = {'val': -float('inf'), 'test': -float('inf'), 'epoch': -1}\n",
    "\n",
    "    patience = 3\n",
    "    remaining_patience = patience\n",
    "\n",
    "    print('-' * 88 + '\\n')\n",
    "    for epoch in range(n_epochs):\n",
    "        train_loss_epoch = 0.0  # 전체 학습 손실 누적\n",
    "        batches = (\n",
    "            torch.randperm(train_size, device=device).split(batch_size)\n",
    "            if model.share_training_batches\n",
    "            else [\n",
    "                x.transpose(0, 1).flatten()\n",
    "                for x in torch.rand((model.k, train_size), device=device)\n",
    "                .argsort(dim=1)\n",
    "                .split(batch_size, dim=1)\n",
    "            ]\n",
    "        )\n",
    "\n",
    "        # for batch_idx in tqdm(batches, desc=f'Epoch {epoch}'):\n",
    "        for batch_idx in batches:\n",
    "            model.train()\n",
    "            optimizer.zero_grad()\n",
    "            loss = loss_fn(apply_model('train', batch_idx), data['train']['y'][batch_idx])\n",
    "            train_loss_epoch += loss.item() * batch_idx.size(0)\n",
    "            if grad_scaler is None:\n",
    "                loss.backward()\n",
    "                optimizer.step()\n",
    "            else:\n",
    "                grad_scaler.scale(loss).backward()  # type: ignore\n",
    "                grad_scaler.step(optimizer)\n",
    "                grad_scaler.update()\n",
    "        train_loss_epoch /= train_size\n",
    "\n",
    "        if early_stopping == 'loss':\n",
    "            val_metric = evaluate('val', metric='loss')\n",
    "            y_test_pred = predict_proba('test')[:, 1]\n",
    "            test_metric = calculate_auc(y_test_pred, data_seed)\n",
    "        elif early_stopping == 'auc':\n",
    "            val_metric = evaluate('val', metric='auc')\n",
    "            y_test_pred = predict_proba('test')[:, 1]\n",
    "            test_metric = calculate_auc(y_test_pred, data_seed)\n",
    "        else:\n",
    "            raise ValueError(f\"Unknown metric: {early_stopping}\")\n",
    "\n",
    "        print(f\"Epoch{epoch:03d} - Train Loss: {train_loss_epoch:.4f}, Val {early_stopping.capitalize()}: {val_metric:.4f}, Test AUC: {test_metric:.4f}\")\n",
    "\n",
    "        if early_stopping == 'loss':\n",
    "            if val_metric < best['val']:\n",
    "                # print(\"🌸 New best epoch! 🌸\")\n",
    "                best = {'val': val_metric, 'test': test_metric, 'epoch': epoch}\n",
    "                torch.save(model.state_dict(), \"best_model.pt\")\n",
    "                remaining_patience = patience\n",
    "            else:\n",
    "                remaining_patience -= 1\n",
    "\n",
    "        elif early_stopping == 'auc':\n",
    "            if val_metric > best['val']:\n",
    "                # print(\"🌸 New best epoch! 🌸\")\n",
    "                best = {'val': val_metric, 'test': test_metric, 'epoch': epoch}\n",
    "                torch.save(model.state_dict(), \"best_model.pt\")\n",
    "                remaining_patience = patience\n",
    "            else:\n",
    "                remaining_patience -= 1\n",
    "\n",
    "        if remaining_patience < 0:\n",
    "            print(\"Early stopping triggered.\")\n",
    "            break\n",
    "        print()\n",
    "\n",
    "    print('\\n\\nResult:')\n",
    "    print(best)\n",
    "\n",
    "    model.load_state_dict(torch.load(\"best_model.pt\"))\n",
    "    print(\"Best model weights loaded from best_model.pt\")\n",
    "\n",
    "    val_score = evaluate('val', metric='auc')\n",
    "    val_scores.append(val_score)\n",
    "\n",
    "    y_test_pred = predict_proba('test')[:, 1]\n",
    "    test_preds.append(y_test_pred)\n",
    "\n",
    "valid_auc = np.mean(val_scores, axis=0)\n",
    "\n",
    "test_auc = calculate_auc(np.mean(test_preds, axis=0), data_seed)\n",
    "\n",
    "print(f'[Data Seed {data_seed}] Validation AUC: {valid_auc:.4f}, Test AUC: {test_auc}')"
   ],
   "outputs": [],
   "execution_count": null
  },
  {
   "metadata": {},
   "cell_type": "markdown",
   "source": [
    "- batch_size=8192: 0.7399447912425996\n",
    "- batch_size=4096: 0.74019258093173\n",
    "- batch_size=2048: 0.7401647437659471\n",
    "- batch_size=1024: 0.7402555436332832\n",
    "- batch_size=512: 0.7399842578355684\n",
    "- batch_size=256: 0.7400706014930337\n",
    "- batch_size=128: 0.7400386277653144"
   ],
   "id": "a4f740571b7823e2"
  },
  {
   "metadata": {
    "ExecuteTime": {
     "end_time": "2025-04-03T13:48:47.439292Z",
     "start_time": "2025-04-03T13:48:47.401263Z"
    }
   },
   "cell_type": "code",
   "source": [
    "submission = pd.DataFrame({f'tabm_{data_seed}': np.mean(test_preds, axis=0)})\n",
    "submission"
   ],
   "id": "cfec53b5af65bf68",
   "outputs": [
    {
     "data": {
      "text/plain": [
       "         tabm_3\n",
       "0      0.287786\n",
       "1      0.356426\n",
       "2      0.304808\n",
       "3      0.248068\n",
       "4      0.406205\n",
       "...         ...\n",
       "51266  0.559534\n",
       "51267  0.117472\n",
       "51268  0.061411\n",
       "51269  0.000550\n",
       "51270  0.387359\n",
       "\n",
       "[51271 rows x 1 columns]"
      ],
      "text/html": [
       "<div>\n",
       "<style scoped>\n",
       "    .dataframe tbody tr th:only-of-type {\n",
       "        vertical-align: middle;\n",
       "    }\n",
       "\n",
       "    .dataframe tbody tr th {\n",
       "        vertical-align: top;\n",
       "    }\n",
       "\n",
       "    .dataframe thead th {\n",
       "        text-align: right;\n",
       "    }\n",
       "</style>\n",
       "<table border=\"1\" class=\"dataframe\">\n",
       "  <thead>\n",
       "    <tr style=\"text-align: right;\">\n",
       "      <th></th>\n",
       "      <th>tabm_3</th>\n",
       "    </tr>\n",
       "  </thead>\n",
       "  <tbody>\n",
       "    <tr>\n",
       "      <th>0</th>\n",
       "      <td>0.287786</td>\n",
       "    </tr>\n",
       "    <tr>\n",
       "      <th>1</th>\n",
       "      <td>0.356426</td>\n",
       "    </tr>\n",
       "    <tr>\n",
       "      <th>2</th>\n",
       "      <td>0.304808</td>\n",
       "    </tr>\n",
       "    <tr>\n",
       "      <th>3</th>\n",
       "      <td>0.248068</td>\n",
       "    </tr>\n",
       "    <tr>\n",
       "      <th>4</th>\n",
       "      <td>0.406205</td>\n",
       "    </tr>\n",
       "    <tr>\n",
       "      <th>...</th>\n",
       "      <td>...</td>\n",
       "    </tr>\n",
       "    <tr>\n",
       "      <th>51266</th>\n",
       "      <td>0.559534</td>\n",
       "    </tr>\n",
       "    <tr>\n",
       "      <th>51267</th>\n",
       "      <td>0.117472</td>\n",
       "    </tr>\n",
       "    <tr>\n",
       "      <th>51268</th>\n",
       "      <td>0.061411</td>\n",
       "    </tr>\n",
       "    <tr>\n",
       "      <th>51269</th>\n",
       "      <td>0.000550</td>\n",
       "    </tr>\n",
       "    <tr>\n",
       "      <th>51270</th>\n",
       "      <td>0.387359</td>\n",
       "    </tr>\n",
       "  </tbody>\n",
       "</table>\n",
       "<p>51271 rows × 1 columns</p>\n",
       "</div>"
      ]
     },
     "execution_count": 18,
     "metadata": {},
     "output_type": "execute_result"
    }
   ],
   "execution_count": 18
  },
  {
   "metadata": {
    "ExecuteTime": {
     "end_time": "2025-04-03T13:48:48.611561Z",
     "start_time": "2025-04-03T13:48:48.567225Z"
    }
   },
   "cell_type": "code",
   "source": "submission.to_csv(f'TabM_{data_seed}.csv', index=False)",
   "id": "f35576fd5276f87c",
   "outputs": [],
   "execution_count": 19
  },
  {
   "metadata": {},
   "cell_type": "code",
   "outputs": [],
   "execution_count": null,
   "source": "",
   "id": "582acc4e8ed5ffeb"
  }
 ],
 "metadata": {
  "kernelspec": {
   "display_name": "Python 3 (ipykernel)",
   "language": "python",
   "name": "python3"
  },
  "language_info": {
   "codemirror_mode": {
    "name": "ipython",
    "version": 3
   },
   "file_extension": ".py",
   "mimetype": "text/x-python",
   "name": "python",
   "nbconvert_exporter": "python",
   "pygments_lexer": "ipython3",
   "version": "3.8.18"
  }
 },
 "nbformat": 4,
 "nbformat_minor": 5
}
